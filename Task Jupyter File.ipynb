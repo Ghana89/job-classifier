{
 "cells": [
  {
   "cell_type": "markdown",
   "id": "07ec787e",
   "metadata": {},
   "source": [
    "# Task Details"
   ]
  },
  {
   "cell_type": "raw",
   "id": "eab31370",
   "metadata": {},
   "source": [
    "Topic:- Create an unsupervised model, by just using the column – \n",
    "    “Job Description” to classify the jobs into their respective departments (e.g. Engineering, support, Data Science etc.)\n",
    "Dataset - https://www.kaggle.com/code/niekvanderzwaag/booking-com-jobs-eda-nlp-ensemble-modeling/data\n",
    "Questions – \n",
    "1)\tPerform text pre-processing steps and explain why that step is useful for the given task (2 marks)\n",
    "2)\tIdentify # of natural clusters in the data (2 marks)\n",
    "3)\tTrain an appropriate (unsupervised) model to classify the jobs into their respective\n",
    "departments by only using “Job Description” column and ignoring other columns (2 marks)\n",
    "4)\tIdentify key words from each cluster (2 Marks)\n",
    "5)\tDeploy the model (2 marks)\n",
    "a.\tAs a rest api endpoint\n",
    "b.\tMobil app model"
   ]
  },
  {
   "cell_type": "markdown",
   "id": "12a72bf6",
   "metadata": {},
   "source": [
    "# Import Library"
   ]
  },
  {
   "cell_type": "code",
   "execution_count": 84,
   "id": "5a090ef4",
   "metadata": {},
   "outputs": [],
   "source": [
    "import pickle\n",
    "\n",
    "import pandas as pd\n",
    "import numpy as np\n",
    "\n",
    "from gensim.models import Word2Vec\n",
    "from sklearn.cluster import KMeans\n",
    "from sklearn.metrics import silhouette_score\n",
    "from yellowbrick.cluster import SilhouetteVisualizer\n",
    "\n",
    "from nltk.tokenize import word_tokenize\n",
    "from string import punctuation\n",
    "from nltk.stem import WordNetLemmatizer\n",
    "from nltk.corpus import stopwords\n",
    "from unidecode import unidecode\n",
    "import contractions\n",
    "from sklearn.feature_extraction.text import CountVectorizer,TfidfVectorizer\n",
    "import re\n",
    "\n",
    "import seaborn as sns\n",
    "import matplotlib.pyplot as plt\n",
    "from wordcloud import WordCloud\n",
    "\n",
    "from nltk.stem import WordNetLemmatizer\n",
    "from nltk.util import ngrams\n",
    "from sklearn.model_selection import train_test_split"
   ]
  },
  {
   "cell_type": "markdown",
   "id": "5e1fb636",
   "metadata": {},
   "source": [
    "# Step 1: Data Gathering"
   ]
  },
  {
   "cell_type": "code",
   "execution_count": 2,
   "id": "4b893497",
   "metadata": {},
   "outputs": [
    {
     "data": {
      "text/html": [
       "<div>\n",
       "<style scoped>\n",
       "    .dataframe tbody tr th:only-of-type {\n",
       "        vertical-align: middle;\n",
       "    }\n",
       "\n",
       "    .dataframe tbody tr th {\n",
       "        vertical-align: top;\n",
       "    }\n",
       "\n",
       "    .dataframe thead th {\n",
       "        text-align: right;\n",
       "    }\n",
       "</style>\n",
       "<table border=\"1\" class=\"dataframe\">\n",
       "  <thead>\n",
       "    <tr style=\"text-align: right;\">\n",
       "      <th></th>\n",
       "      <th>Job Title</th>\n",
       "      <th>Job Description</th>\n",
       "      <th>Location</th>\n",
       "      <th>Team</th>\n",
       "    </tr>\n",
       "  </thead>\n",
       "  <tbody>\n",
       "    <tr>\n",
       "      <th>0</th>\n",
       "      <td>Junior Endpoints Engineer</td>\n",
       "      <td>Booking.com\\r\\nIt wasn’t so long ago that book...</td>\n",
       "      <td>Manchester, United Kingdom</td>\n",
       "      <td>Engineering</td>\n",
       "    </tr>\n",
       "    <tr>\n",
       "      <th>1</th>\n",
       "      <td>UX Writer - B2B</td>\n",
       "      <td>At Booking.com, data drives our decisions. Tec...</td>\n",
       "      <td>Amsterdam, Netherlands</td>\n",
       "      <td>Design &amp; User Experience</td>\n",
       "    </tr>\n",
       "    <tr>\n",
       "      <th>2</th>\n",
       "      <td>Treasury Risk Specialist</td>\n",
       "      <td>Booking.com’s global treasury team is looking ...</td>\n",
       "      <td>Amsterdam, Netherlands</td>\n",
       "      <td>Finance</td>\n",
       "    </tr>\n",
       "    <tr>\n",
       "      <th>3</th>\n",
       "      <td>Product Manager - Insurance - Policy Admin</td>\n",
       "      <td>About the company\\r\\nIt wasn’t so long ago tha...</td>\n",
       "      <td>Manchester, United Kingdom</td>\n",
       "      <td>Product</td>\n",
       "    </tr>\n",
       "    <tr>\n",
       "      <th>4</th>\n",
       "      <td>Account Executive - Manchester</td>\n",
       "      <td>Account Executive - Bristol\\r\\nThis is a full ...</td>\n",
       "      <td>Manchester, United Kingdom</td>\n",
       "      <td>Business Development &amp; Support</td>\n",
       "    </tr>\n",
       "  </tbody>\n",
       "</table>\n",
       "</div>"
      ],
      "text/plain": [
       "                                    Job Title  \\\n",
       "0                   Junior Endpoints Engineer   \n",
       "1                             UX Writer - B2B   \n",
       "2                    Treasury Risk Specialist   \n",
       "3  Product Manager - Insurance - Policy Admin   \n",
       "4              Account Executive - Manchester   \n",
       "\n",
       "                                     Job Description  \\\n",
       "0  Booking.com\\r\\nIt wasn’t so long ago that book...   \n",
       "1  At Booking.com, data drives our decisions. Tec...   \n",
       "2  Booking.com’s global treasury team is looking ...   \n",
       "3  About the company\\r\\nIt wasn’t so long ago tha...   \n",
       "4  Account Executive - Bristol\\r\\nThis is a full ...   \n",
       "\n",
       "                     Location                            Team  \n",
       "0  Manchester, United Kingdom                     Engineering  \n",
       "1      Amsterdam, Netherlands        Design & User Experience  \n",
       "2      Amsterdam, Netherlands                         Finance  \n",
       "3  Manchester, United Kingdom                         Product  \n",
       "4  Manchester, United Kingdom  Business Development & Support  "
      ]
     },
     "execution_count": 2,
     "metadata": {},
     "output_type": "execute_result"
    }
   ],
   "source": [
    "df = pd.read_csv('Booking_Jobs_All_220218.csv')\n",
    "df.head()"
   ]
  },
  {
   "cell_type": "markdown",
   "id": "bc5ca117",
   "metadata": {},
   "source": [
    "# Step 2 : EDA (Expolratory Data Analysis)"
   ]
  },
  {
   "cell_type": "code",
   "execution_count": 3,
   "id": "24778631",
   "metadata": {},
   "outputs": [
    {
     "data": {
      "text/plain": [
       "Index(['Job Title', 'Job Description', 'Location', 'Team'], dtype='object')"
      ]
     },
     "execution_count": 3,
     "metadata": {},
     "output_type": "execute_result"
    }
   ],
   "source": [
    "df.columns # To check Number of columns in Dataframe"
   ]
  },
  {
   "cell_type": "code",
   "execution_count": 4,
   "id": "9a2cb0a8",
   "metadata": {},
   "outputs": [
    {
     "name": "stdout",
     "output_type": "stream",
     "text": [
      "<class 'pandas.core.frame.DataFrame'>\n",
      "RangeIndex: 653 entries, 0 to 652\n",
      "Data columns (total 4 columns):\n",
      " #   Column           Non-Null Count  Dtype \n",
      "---  ------           --------------  ----- \n",
      " 0   Job Title        653 non-null    object\n",
      " 1   Job Description  653 non-null    object\n",
      " 2   Location         653 non-null    object\n",
      " 3   Team             653 non-null    object\n",
      "dtypes: object(4)\n",
      "memory usage: 20.5+ KB\n"
     ]
    }
   ],
   "source": [
    "df.info()"
   ]
  },
  {
   "cell_type": "code",
   "execution_count": 5,
   "id": "ac6daf97",
   "metadata": {},
   "outputs": [
    {
     "data": {
      "text/plain": [
       "Job Title          0\n",
       "Job Description    0\n",
       "Location           0\n",
       "Team               0\n",
       "dtype: int64"
      ]
     },
     "execution_count": 5,
     "metadata": {},
     "output_type": "execute_result"
    }
   ],
   "source": [
    "df.isna().sum()"
   ]
  },
  {
   "cell_type": "code",
   "execution_count": 6,
   "id": "6a7a60ac",
   "metadata": {},
   "outputs": [
    {
     "data": {
      "text/plain": [
       "4"
      ]
     },
     "execution_count": 6,
     "metadata": {},
     "output_type": "execute_result"
    }
   ],
   "source": [
    "df.duplicated().sum() # To check Number of duplicate value present in Data to avoid Data Leakage"
   ]
  },
  {
   "cell_type": "code",
   "execution_count": 7,
   "id": "bd96106d",
   "metadata": {},
   "outputs": [],
   "source": [
    "df.drop_duplicates(inplace=True) # To Drop all Duplicate value from data Frame"
   ]
  },
  {
   "cell_type": "code",
   "execution_count": 8,
   "id": "3e802229",
   "metadata": {},
   "outputs": [
    {
     "data": {
      "text/plain": [
       "0"
      ]
     },
     "execution_count": 8,
     "metadata": {},
     "output_type": "execute_result"
    }
   ],
   "source": [
    "df.duplicated().sum() # Here we confirm that all duplicate value have drop from data"
   ]
  },
  {
   "cell_type": "code",
   "execution_count": 9,
   "id": "5c608bfa",
   "metadata": {},
   "outputs": [
    {
     "data": {
      "text/plain": [
       "Engineering                       193\n",
       "Business Development & Support    109\n",
       "People                             68\n",
       "Security & Infrastructure          49\n",
       "Design & User Experience           41\n",
       "Marketing & Communications         36\n",
       "Product                            35\n",
       "Data Science & Analytics           33\n",
       "Customer Service                   25\n",
       "Leadership                         24\n",
       "Finance & Legal                    15\n",
       "Finance                            10\n",
       "IT Services                         7\n",
       "Legal & Public Affairs              4\n",
       "Name: Team, dtype: int64"
      ]
     },
     "execution_count": 9,
     "metadata": {},
     "output_type": "execute_result"
    }
   ],
   "source": [
    "df.Team.value_counts() # To check number of clusters required from Data Frames"
   ]
  },
  {
   "cell_type": "code",
   "execution_count": 10,
   "id": "ac161223",
   "metadata": {},
   "outputs": [],
   "source": [
    "# To De Minimal Preprocessing From data we remove special characters and spaces\n",
    "def remove_special_char(data):\n",
    "    text = re.sub('\\W' , ' ' ,data ) #  output only alpha numeric string\n",
    "    text1 = re.sub('\\s+' , ' ' , text) # to remove extra space from string\n",
    "    return text1\n",
    "    "
   ]
  },
  {
   "cell_type": "code",
   "execution_count": 11,
   "id": "b834b721",
   "metadata": {},
   "outputs": [],
   "source": [
    "# apply to on Job description column\n",
    "df['job_description'] =df['Job Description'].apply(remove_special_char)\n"
   ]
  },
  {
   "cell_type": "code",
   "execution_count": 12,
   "id": "32e36eaa",
   "metadata": {},
   "outputs": [],
   "source": [
    "df.drop(['Job Description' , 'Location' ,'Job Title' ] , axis =1 ,inplace=True) # As Per Problem Statement We have\n",
    "# To use only Job Description columns"
   ]
  },
  {
   "cell_type": "code",
   "execution_count": 13,
   "id": "218c511f",
   "metadata": {},
   "outputs": [
    {
     "data": {
      "text/html": [
       "<div>\n",
       "<style scoped>\n",
       "    .dataframe tbody tr th:only-of-type {\n",
       "        vertical-align: middle;\n",
       "    }\n",
       "\n",
       "    .dataframe tbody tr th {\n",
       "        vertical-align: top;\n",
       "    }\n",
       "\n",
       "    .dataframe thead th {\n",
       "        text-align: right;\n",
       "    }\n",
       "</style>\n",
       "<table border=\"1\" class=\"dataframe\">\n",
       "  <thead>\n",
       "    <tr style=\"text-align: right;\">\n",
       "      <th></th>\n",
       "      <th>Team</th>\n",
       "      <th>job_description</th>\n",
       "    </tr>\n",
       "  </thead>\n",
       "  <tbody>\n",
       "    <tr>\n",
       "      <th>0</th>\n",
       "      <td>Engineering</td>\n",
       "      <td>Booking com It wasn t so long ago that booking...</td>\n",
       "    </tr>\n",
       "    <tr>\n",
       "      <th>1</th>\n",
       "      <td>Design &amp; User Experience</td>\n",
       "      <td>At Booking com data drives our decisions Techn...</td>\n",
       "    </tr>\n",
       "    <tr>\n",
       "      <th>2</th>\n",
       "      <td>Finance</td>\n",
       "      <td>Booking com s global treasury team is looking ...</td>\n",
       "    </tr>\n",
       "    <tr>\n",
       "      <th>3</th>\n",
       "      <td>Product</td>\n",
       "      <td>About the company It wasn t so long ago that b...</td>\n",
       "    </tr>\n",
       "    <tr>\n",
       "      <th>4</th>\n",
       "      <td>Business Development &amp; Support</td>\n",
       "      <td>Account Executive Bristol This is a full time ...</td>\n",
       "    </tr>\n",
       "  </tbody>\n",
       "</table>\n",
       "</div>"
      ],
      "text/plain": [
       "                             Team  \\\n",
       "0                     Engineering   \n",
       "1        Design & User Experience   \n",
       "2                         Finance   \n",
       "3                         Product   \n",
       "4  Business Development & Support   \n",
       "\n",
       "                                     job_description  \n",
       "0  Booking com It wasn t so long ago that booking...  \n",
       "1  At Booking com data drives our decisions Techn...  \n",
       "2  Booking com s global treasury team is looking ...  \n",
       "3  About the company It wasn t so long ago that b...  \n",
       "4  Account Executive Bristol This is a full time ...  "
      ]
     },
     "execution_count": 13,
     "metadata": {},
     "output_type": "execute_result"
    }
   ],
   "source": [
    "df.head(5)"
   ]
  },
  {
   "cell_type": "markdown",
   "id": "e85faa6c",
   "metadata": {},
   "source": [
    "# Data Visualization\n",
    "1 ) WordCloude Generator 2 ) Ngrams Visualizor "
   ]
  },
  {
   "cell_type": "markdown",
   "id": "4474ac31",
   "metadata": {},
   "source": [
    "# Word Cloud Generation"
   ]
  },
  {
   "cell_type": "code",
   "execution_count": 14,
   "id": "bf7d75d0",
   "metadata": {},
   "outputs": [
    {
     "data": {
      "text/plain": [
       "'Booking com It wasn t so long ago that booking a trip to see the Eiffel Tower stroll down New York s'"
      ]
     },
     "execution_count": 14,
     "metadata": {},
     "output_type": "execute_result"
    }
   ],
   "source": [
    "\n",
    "# To Add all text data from job_description columns\n",
    "word_cloud_text = df['job_description'].str.cat(sep=' ')\n",
    "word_cloud_text[:100]"
   ]
  },
  {
   "cell_type": "code",
   "execution_count": 15,
   "id": "5deeea89",
   "metadata": {},
   "outputs": [
    {
     "data": {
      "image/png": "[encoded data removed]",
      "text/plain": [
       "<Figure size 720x1080 with 1 Axes>"
      ]
     },
     "metadata": {
      "needs_background": "light"
     },
     "output_type": "display_data"
    }
   ],
   "source": [
    "wordcloud = WordCloud(width=700,height=500,background_color='white').generate(word_cloud_text)\n",
    "\n",
    "plt.figure(figsize=(10,15))\n",
    "plt.imshow(wordcloud)\n",
    "plt.axis(\"off\")\n",
    "plt.show()"
   ]
  },
  {
   "cell_type": "markdown",
   "id": "eef73935",
   "metadata": {},
   "source": [
    "# Data Preprocessing "
   ]
  },
  {
   "cell_type": "code",
   "execution_count": 16,
   "id": "47875bd0",
   "metadata": {},
   "outputs": [],
   "source": [
    "def text_expansion(data): # Sample text Expansion step \n",
    "    return contractions.fix(data)"
   ]
  },
  {
   "cell_type": "code",
   "execution_count": 17,
   "id": "850c9bbf",
   "metadata": {},
   "outputs": [
    {
     "data": {
      "text/plain": [
       "'do not'"
      ]
     },
     "execution_count": 17,
     "metadata": {},
     "output_type": "execute_result"
    }
   ],
   "source": [
    "text_expansion(\"don't\") # Step for only explaination text_expansion"
   ]
  },
  {
   "cell_type": "code",
   "execution_count": 18,
   "id": "e2c28dab",
   "metadata": {},
   "outputs": [],
   "source": [
    "def tokens_gen(data): # sample function To split sentence into words\n",
    "    text =word_tokenize(data)\n",
    "    return text"
   ]
  },
  {
   "cell_type": "code",
   "execution_count": 19,
   "id": "f4efc3cf",
   "metadata": {},
   "outputs": [
    {
     "data": {
      "text/plain": [
       "['This', 'Is', 'Nlp', 'demo', 'Project']"
      ]
     },
     "execution_count": 19,
     "metadata": {},
     "output_type": "execute_result"
    }
   ],
   "source": [
    "tokens_gen('This Is Nlp demo Project') # Step for only explaination of tokens_gen"
   ]
  },
  {
   "cell_type": "code",
   "execution_count": 20,
   "id": "b191a9fd",
   "metadata": {},
   "outputs": [
    {
     "data": {
      "text/plain": [
       "['i', 'me', 'my', 'myself', 'we', 'our', 'ours', 'ourselves', 'you', \"you're\"]"
      ]
     },
     "execution_count": 20,
     "metadata": {},
     "output_type": "execute_result"
    }
   ],
   "source": [
    "stop_words = stopwords.words('English') # To remove number of stopword from data to\n",
    "#avoide garbage feeding to data frame\n",
    "stop_words[:10]"
   ]
  },
  {
   "cell_type": "code",
   "execution_count": 21,
   "id": "88e97576",
   "metadata": {},
   "outputs": [],
   "source": [
    "def remove_unidecod(data): # To remove ascented characters from data \n",
    "    data_decoded = unidecode(data)\n",
    "    return data_decoded"
   ]
  },
  {
   "cell_type": "code",
   "execution_count": 22,
   "id": "d8c9e9ee",
   "metadata": {},
   "outputs": [],
   "source": [
    "def cleaning_data(data):\n",
    "    expanded_text = contractions.fix(data) # To expand Text\n",
    "    data_decoded = unidecode(expanded_text) #to handle_accented characters\n",
    "    tokens =word_tokenize(data_decoded) # to create token from data\n",
    "    stop_words = stopwords.words('English') # to remove word not from stopwords\n",
    "    # In Below Cean Text we Normalize data , we remove stopwords from data , we taken alphabatic\n",
    "    # data , length of word is greater than 2 , and free from punctuations\n",
    "    clean_text = [word.lower() for word in tokens if (word.lower() not in stop_words)\n",
    "                 and (word not in punctuation) and (len(word) >2 and word.isalpha())]\n",
    "    lemmetzier=WordNetLemmatizer() # to find root words from data\n",
    "    root_words =[lemmetzier.lemmatize(data_clean) for data_clean in clean_text ]\n",
    "    \n",
    "    return root_words\n",
    "\n",
    "    \n",
    "    "
   ]
  },
  {
   "cell_type": "code",
   "execution_count": 23,
   "id": "f242d2b6",
   "metadata": {},
   "outputs": [
    {
     "name": "stdout",
     "output_type": "stream",
     "text": [
      "['booking', 'com', 'long', 'ago', 'booking', 'trip', 'see', 'eiffel', 'tower', 'stroll']"
     ]
    }
   ],
   "source": [
    "print(cleaning_data(df.job_description[0])[:10] , end='') # output of cleaning function"
   ]
  },
  {
   "cell_type": "code",
   "execution_count": 24,
   "id": "ea754df2",
   "metadata": {},
   "outputs": [],
   "source": [
    "df['Clean_Job_Description'] = df.job_description.apply(cleaning_data) # Clean Data added to DF"
   ]
  },
  {
   "cell_type": "code",
   "execution_count": 25,
   "id": "e49b95fa",
   "metadata": {},
   "outputs": [
    {
     "data": {
      "text/html": [
       "<div>\n",
       "<style scoped>\n",
       "    .dataframe tbody tr th:only-of-type {\n",
       "        vertical-align: middle;\n",
       "    }\n",
       "\n",
       "    .dataframe tbody tr th {\n",
       "        vertical-align: top;\n",
       "    }\n",
       "\n",
       "    .dataframe thead th {\n",
       "        text-align: right;\n",
       "    }\n",
       "</style>\n",
       "<table border=\"1\" class=\"dataframe\">\n",
       "  <thead>\n",
       "    <tr style=\"text-align: right;\">\n",
       "      <th></th>\n",
       "      <th>Team</th>\n",
       "      <th>job_description</th>\n",
       "      <th>Clean_Job_Description</th>\n",
       "    </tr>\n",
       "  </thead>\n",
       "  <tbody>\n",
       "    <tr>\n",
       "      <th>0</th>\n",
       "      <td>Engineering</td>\n",
       "      <td>Booking com It wasn t so long ago that booking...</td>\n",
       "      <td>[booking, com, long, ago, booking, trip, see, ...</td>\n",
       "    </tr>\n",
       "    <tr>\n",
       "      <th>1</th>\n",
       "      <td>Design &amp; User Experience</td>\n",
       "      <td>At Booking com data drives our decisions Techn...</td>\n",
       "      <td>[booking, com, data, drive, decision, technolo...</td>\n",
       "    </tr>\n",
       "    <tr>\n",
       "      <th>2</th>\n",
       "      <td>Finance</td>\n",
       "      <td>Booking com s global treasury team is looking ...</td>\n",
       "      <td>[booking, com, global, treasury, team, looking...</td>\n",
       "    </tr>\n",
       "    <tr>\n",
       "      <th>3</th>\n",
       "      <td>Product</td>\n",
       "      <td>About the company It wasn t so long ago that b...</td>\n",
       "      <td>[company, long, ago, booking, trip, see, eiffe...</td>\n",
       "    </tr>\n",
       "    <tr>\n",
       "      <th>4</th>\n",
       "      <td>Business Development &amp; Support</td>\n",
       "      <td>Account Executive Bristol This is a full time ...</td>\n",
       "      <td>[account, executive, bristol, full, time, posi...</td>\n",
       "    </tr>\n",
       "    <tr>\n",
       "      <th>...</th>\n",
       "      <td>...</td>\n",
       "      <td>...</td>\n",
       "      <td>...</td>\n",
       "    </tr>\n",
       "    <tr>\n",
       "      <th>648</th>\n",
       "      <td>Engineering</td>\n",
       "      <td>It wasn t so long ago that booking a trip so s...</td>\n",
       "      <td>[long, ago, booking, trip, see, eiffel, tower,...</td>\n",
       "    </tr>\n",
       "    <tr>\n",
       "      <th>649</th>\n",
       "      <td>Engineering</td>\n",
       "      <td>Senior Front End Developer Who are we At Booki...</td>\n",
       "      <td>[senior, front, end, developer, booking, com, ...</td>\n",
       "    </tr>\n",
       "    <tr>\n",
       "      <th>650</th>\n",
       "      <td>Engineering</td>\n",
       "      <td>At Booking com we make it easier for everyone ...</td>\n",
       "      <td>[booking, com, make, easier, everyone, experie...</td>\n",
       "    </tr>\n",
       "    <tr>\n",
       "      <th>651</th>\n",
       "      <td>Engineering</td>\n",
       "      <td>Senior Java Developer Who are we At Booking co...</td>\n",
       "      <td>[senior, java, developer, booking, com, make, ...</td>\n",
       "    </tr>\n",
       "    <tr>\n",
       "      <th>652</th>\n",
       "      <td>Engineering</td>\n",
       "      <td>At Booking com data drives our decisions Techn...</td>\n",
       "      <td>[booking, com, data, drive, decision, technolo...</td>\n",
       "    </tr>\n",
       "  </tbody>\n",
       "</table>\n",
       "<p>649 rows × 3 columns</p>\n",
       "</div>"
      ],
      "text/plain": [
       "                               Team  \\\n",
       "0                       Engineering   \n",
       "1          Design & User Experience   \n",
       "2                           Finance   \n",
       "3                           Product   \n",
       "4    Business Development & Support   \n",
       "..                              ...   \n",
       "648                     Engineering   \n",
       "649                     Engineering   \n",
       "650                     Engineering   \n",
       "651                     Engineering   \n",
       "652                     Engineering   \n",
       "\n",
       "                                       job_description  \\\n",
       "0    Booking com It wasn t so long ago that booking...   \n",
       "1    At Booking com data drives our decisions Techn...   \n",
       "2    Booking com s global treasury team is looking ...   \n",
       "3    About the company It wasn t so long ago that b...   \n",
       "4    Account Executive Bristol This is a full time ...   \n",
       "..                                                 ...   \n",
       "648  It wasn t so long ago that booking a trip so s...   \n",
       "649  Senior Front End Developer Who are we At Booki...   \n",
       "650  At Booking com we make it easier for everyone ...   \n",
       "651  Senior Java Developer Who are we At Booking co...   \n",
       "652  At Booking com data drives our decisions Techn...   \n",
       "\n",
       "                                 Clean_Job_Description  \n",
       "0    [booking, com, long, ago, booking, trip, see, ...  \n",
       "1    [booking, com, data, drive, decision, technolo...  \n",
       "2    [booking, com, global, treasury, team, looking...  \n",
       "3    [company, long, ago, booking, trip, see, eiffe...  \n",
       "4    [account, executive, bristol, full, time, posi...  \n",
       "..                                                 ...  \n",
       "648  [long, ago, booking, trip, see, eiffel, tower,...  \n",
       "649  [senior, front, end, developer, booking, com, ...  \n",
       "650  [booking, com, make, easier, everyone, experie...  \n",
       "651  [senior, java, developer, booking, com, make, ...  \n",
       "652  [booking, com, data, drive, decision, technolo...  \n",
       "\n",
       "[649 rows x 3 columns]"
      ]
     },
     "execution_count": 25,
     "metadata": {},
     "output_type": "execute_result"
    }
   ],
   "source": [
    "df # To check how data Frame Looks"
   ]
  },
  {
   "cell_type": "markdown",
   "id": "610e573b",
   "metadata": {},
   "source": [
    "# To Convert Data into Vectors"
   ]
  },
  {
   "cell_type": "code",
   "execution_count": 26,
   "id": "9160bf3c",
   "metadata": {},
   "outputs": [
    {
     "data": {
      "text/plain": [
       "0    booking com long ago booking trip see eiffel t...\n",
       "1    booking com data drive decision technology cor...\n",
       "2    booking com global treasury team looking treas...\n",
       "3    company long ago booking trip see eiffel tower...\n",
       "4    account executive bristol full time position b...\n",
       "Name: Clean_Job_Description, dtype: object"
      ]
     },
     "execution_count": 26,
     "metadata": {},
     "output_type": "execute_result"
    }
   ],
   "source": [
    "# To combine text from clean data\n",
    "def input_text(data):\n",
    "    text = ' '.join(data) \n",
    "    return text\n",
    "clean_text=df['Clean_Job_Description'].apply(input_text)\n",
    "clean_text[:5] # Text Required for Count Vectoriser and TFIdf"
   ]
  },
  {
   "cell_type": "markdown",
   "id": "6f01ab7b",
   "metadata": {},
   "source": [
    "# Vectors Creation Using Count Vectoriser(bag of words)"
   ]
  },
  {
   "cell_type": "code",
   "execution_count": 27,
   "id": "0672f284",
   "metadata": {},
   "outputs": [
    {
     "data": {
      "text/html": [
       "<div>\n",
       "<style scoped>\n",
       "    .dataframe tbody tr th:only-of-type {\n",
       "        vertical-align: middle;\n",
       "    }\n",
       "\n",
       "    .dataframe tbody tr th {\n",
       "        vertical-align: top;\n",
       "    }\n",
       "\n",
       "    .dataframe thead th {\n",
       "        text-align: right;\n",
       "    }\n",
       "</style>\n",
       "<table border=\"1\" class=\"dataframe\">\n",
       "  <thead>\n",
       "    <tr style=\"text-align: right;\">\n",
       "      <th></th>\n",
       "      <th>ability</th>\n",
       "      <th>able</th>\n",
       "      <th>abreast</th>\n",
       "      <th>absorb</th>\n",
       "      <th>accelerate</th>\n",
       "      <th>access</th>\n",
       "      <th>accommodation</th>\n",
       "      <th>according</th>\n",
       "      <th>accordingly</th>\n",
       "      <th>account</th>\n",
       "      <th>...</th>\n",
       "      <th>world</th>\n",
       "      <th>worldwide</th>\n",
       "      <th>would</th>\n",
       "      <th>write</th>\n",
       "      <th>writer</th>\n",
       "      <th>writing</th>\n",
       "      <th>written</th>\n",
       "      <th>year</th>\n",
       "      <th>yes</th>\n",
       "      <th>york</th>\n",
       "    </tr>\n",
       "  </thead>\n",
       "  <tbody>\n",
       "    <tr>\n",
       "      <th>0</th>\n",
       "      <td>1</td>\n",
       "      <td>0</td>\n",
       "      <td>0</td>\n",
       "      <td>1</td>\n",
       "      <td>0</td>\n",
       "      <td>0</td>\n",
       "      <td>0</td>\n",
       "      <td>1</td>\n",
       "      <td>0</td>\n",
       "      <td>0</td>\n",
       "      <td>...</td>\n",
       "      <td>4</td>\n",
       "      <td>1</td>\n",
       "      <td>0</td>\n",
       "      <td>0</td>\n",
       "      <td>0</td>\n",
       "      <td>0</td>\n",
       "      <td>0</td>\n",
       "      <td>0</td>\n",
       "      <td>0</td>\n",
       "      <td>1</td>\n",
       "    </tr>\n",
       "    <tr>\n",
       "      <th>1</th>\n",
       "      <td>1</td>\n",
       "      <td>1</td>\n",
       "      <td>0</td>\n",
       "      <td>0</td>\n",
       "      <td>0</td>\n",
       "      <td>0</td>\n",
       "      <td>0</td>\n",
       "      <td>0</td>\n",
       "      <td>0</td>\n",
       "      <td>0</td>\n",
       "      <td>...</td>\n",
       "      <td>1</td>\n",
       "      <td>0</td>\n",
       "      <td>0</td>\n",
       "      <td>5</td>\n",
       "      <td>2</td>\n",
       "      <td>8</td>\n",
       "      <td>0</td>\n",
       "      <td>1</td>\n",
       "      <td>0</td>\n",
       "      <td>0</td>\n",
       "    </tr>\n",
       "    <tr>\n",
       "      <th>2</th>\n",
       "      <td>6</td>\n",
       "      <td>4</td>\n",
       "      <td>0</td>\n",
       "      <td>0</td>\n",
       "      <td>0</td>\n",
       "      <td>0</td>\n",
       "      <td>0</td>\n",
       "      <td>0</td>\n",
       "      <td>0</td>\n",
       "      <td>0</td>\n",
       "      <td>...</td>\n",
       "      <td>0</td>\n",
       "      <td>0</td>\n",
       "      <td>0</td>\n",
       "      <td>0</td>\n",
       "      <td>0</td>\n",
       "      <td>0</td>\n",
       "      <td>1</td>\n",
       "      <td>1</td>\n",
       "      <td>0</td>\n",
       "      <td>0</td>\n",
       "    </tr>\n",
       "    <tr>\n",
       "      <th>3</th>\n",
       "      <td>1</td>\n",
       "      <td>1</td>\n",
       "      <td>0</td>\n",
       "      <td>0</td>\n",
       "      <td>0</td>\n",
       "      <td>0</td>\n",
       "      <td>1</td>\n",
       "      <td>0</td>\n",
       "      <td>0</td>\n",
       "      <td>1</td>\n",
       "      <td>...</td>\n",
       "      <td>4</td>\n",
       "      <td>1</td>\n",
       "      <td>0</td>\n",
       "      <td>1</td>\n",
       "      <td>0</td>\n",
       "      <td>1</td>\n",
       "      <td>0</td>\n",
       "      <td>1</td>\n",
       "      <td>0</td>\n",
       "      <td>1</td>\n",
       "    </tr>\n",
       "    <tr>\n",
       "      <th>4</th>\n",
       "      <td>3</td>\n",
       "      <td>0</td>\n",
       "      <td>0</td>\n",
       "      <td>0</td>\n",
       "      <td>0</td>\n",
       "      <td>0</td>\n",
       "      <td>1</td>\n",
       "      <td>0</td>\n",
       "      <td>0</td>\n",
       "      <td>2</td>\n",
       "      <td>...</td>\n",
       "      <td>4</td>\n",
       "      <td>1</td>\n",
       "      <td>0</td>\n",
       "      <td>0</td>\n",
       "      <td>0</td>\n",
       "      <td>0</td>\n",
       "      <td>1</td>\n",
       "      <td>0</td>\n",
       "      <td>1</td>\n",
       "      <td>1</td>\n",
       "    </tr>\n",
       "  </tbody>\n",
       "</table>\n",
       "<p>5 rows × 1500 columns</p>\n",
       "</div>"
      ],
      "text/plain": [
       "   ability  able  abreast  absorb  accelerate  access  accommodation  \\\n",
       "0        1     0        0       1           0       0              0   \n",
       "1        1     1        0       0           0       0              0   \n",
       "2        6     4        0       0           0       0              0   \n",
       "3        1     1        0       0           0       0              1   \n",
       "4        3     0        0       0           0       0              1   \n",
       "\n",
       "   according  accordingly  account  ...  world  worldwide  would  write  \\\n",
       "0          1            0        0  ...      4          1      0      0   \n",
       "1          0            0        0  ...      1          0      0      5   \n",
       "2          0            0        0  ...      0          0      0      0   \n",
       "3          0            0        1  ...      4          1      0      1   \n",
       "4          0            0        2  ...      4          1      0      0   \n",
       "\n",
       "   writer  writing  written  year  yes  york  \n",
       "0       0        0        0     0    0     1  \n",
       "1       2        8        0     1    0     0  \n",
       "2       0        0        1     1    0     0  \n",
       "3       0        1        0     1    0     1  \n",
       "4       0        0        1     0    1     1  \n",
       "\n",
       "[5 rows x 1500 columns]"
      ]
     },
     "execution_count": 27,
     "metadata": {},
     "output_type": "execute_result"
    }
   ],
   "source": [
    "vector =CountVectorizer(max_df=0.95 , max_features=1500) # Max 1500 Features\n",
    "count_vector = vector.fit_transform(clean_text)\n",
    "Count_Vector_df = pd.DataFrame(count_vector.A , columns=vector.get_feature_names_out() )\n",
    "Count_Vector_df.head(5)"
   ]
  },
  {
   "cell_type": "markdown",
   "id": "ab8f14cb",
   "metadata": {},
   "source": [
    "## Vectors Creation Using Count TFIDF Vectoriser (tf * log(inverse df)"
   ]
  },
  {
   "cell_type": "code",
   "execution_count": 28,
   "id": "6a0f0f60",
   "metadata": {},
   "outputs": [
    {
     "data": {
      "text/html": [
       "<div>\n",
       "<style scoped>\n",
       "    .dataframe tbody tr th:only-of-type {\n",
       "        vertical-align: middle;\n",
       "    }\n",
       "\n",
       "    .dataframe tbody tr th {\n",
       "        vertical-align: top;\n",
       "    }\n",
       "\n",
       "    .dataframe thead th {\n",
       "        text-align: right;\n",
       "    }\n",
       "</style>\n",
       "<table border=\"1\" class=\"dataframe\">\n",
       "  <thead>\n",
       "    <tr style=\"text-align: right;\">\n",
       "      <th></th>\n",
       "      <th>ability</th>\n",
       "      <th>able</th>\n",
       "      <th>abreast</th>\n",
       "      <th>absorb</th>\n",
       "      <th>accelerate</th>\n",
       "      <th>access</th>\n",
       "      <th>accommodation</th>\n",
       "      <th>according</th>\n",
       "      <th>accordingly</th>\n",
       "      <th>account</th>\n",
       "      <th>...</th>\n",
       "      <th>world</th>\n",
       "      <th>worldwide</th>\n",
       "      <th>would</th>\n",
       "      <th>write</th>\n",
       "      <th>writer</th>\n",
       "      <th>writing</th>\n",
       "      <th>written</th>\n",
       "      <th>year</th>\n",
       "      <th>yes</th>\n",
       "      <th>york</th>\n",
       "    </tr>\n",
       "  </thead>\n",
       "  <tbody>\n",
       "    <tr>\n",
       "      <th>0</th>\n",
       "      <td>0.019419</td>\n",
       "      <td>0.000000</td>\n",
       "      <td>0.0</td>\n",
       "      <td>0.043866</td>\n",
       "      <td>0.0</td>\n",
       "      <td>0.0</td>\n",
       "      <td>0.000000</td>\n",
       "      <td>0.039992</td>\n",
       "      <td>0.0</td>\n",
       "      <td>0.000000</td>\n",
       "      <td>...</td>\n",
       "      <td>0.058627</td>\n",
       "      <td>0.019419</td>\n",
       "      <td>0.0</td>\n",
       "      <td>0.000000</td>\n",
       "      <td>0.000000</td>\n",
       "      <td>0.000000</td>\n",
       "      <td>0.000000</td>\n",
       "      <td>0.000000</td>\n",
       "      <td>0.000000</td>\n",
       "      <td>0.031544</td>\n",
       "    </tr>\n",
       "    <tr>\n",
       "      <th>1</th>\n",
       "      <td>0.022123</td>\n",
       "      <td>0.024087</td>\n",
       "      <td>0.0</td>\n",
       "      <td>0.000000</td>\n",
       "      <td>0.0</td>\n",
       "      <td>0.0</td>\n",
       "      <td>0.000000</td>\n",
       "      <td>0.000000</td>\n",
       "      <td>0.0</td>\n",
       "      <td>0.000000</td>\n",
       "      <td>...</td>\n",
       "      <td>0.016698</td>\n",
       "      <td>0.000000</td>\n",
       "      <td>0.0</td>\n",
       "      <td>0.226809</td>\n",
       "      <td>0.104048</td>\n",
       "      <td>0.320112</td>\n",
       "      <td>0.000000</td>\n",
       "      <td>0.017228</td>\n",
       "      <td>0.000000</td>\n",
       "      <td>0.000000</td>\n",
       "    </tr>\n",
       "    <tr>\n",
       "      <th>2</th>\n",
       "      <td>0.087626</td>\n",
       "      <td>0.063603</td>\n",
       "      <td>0.0</td>\n",
       "      <td>0.000000</td>\n",
       "      <td>0.0</td>\n",
       "      <td>0.0</td>\n",
       "      <td>0.000000</td>\n",
       "      <td>0.000000</td>\n",
       "      <td>0.0</td>\n",
       "      <td>0.000000</td>\n",
       "      <td>...</td>\n",
       "      <td>0.000000</td>\n",
       "      <td>0.000000</td>\n",
       "      <td>0.0</td>\n",
       "      <td>0.000000</td>\n",
       "      <td>0.000000</td>\n",
       "      <td>0.000000</td>\n",
       "      <td>0.018113</td>\n",
       "      <td>0.011373</td>\n",
       "      <td>0.000000</td>\n",
       "      <td>0.000000</td>\n",
       "    </tr>\n",
       "    <tr>\n",
       "      <th>3</th>\n",
       "      <td>0.012834</td>\n",
       "      <td>0.013974</td>\n",
       "      <td>0.0</td>\n",
       "      <td>0.000000</td>\n",
       "      <td>0.0</td>\n",
       "      <td>0.0</td>\n",
       "      <td>0.012361</td>\n",
       "      <td>0.000000</td>\n",
       "      <td>0.0</td>\n",
       "      <td>0.020731</td>\n",
       "      <td>...</td>\n",
       "      <td>0.038748</td>\n",
       "      <td>0.012834</td>\n",
       "      <td>0.0</td>\n",
       "      <td>0.026316</td>\n",
       "      <td>0.000000</td>\n",
       "      <td>0.023214</td>\n",
       "      <td>0.000000</td>\n",
       "      <td>0.009995</td>\n",
       "      <td>0.000000</td>\n",
       "      <td>0.020848</td>\n",
       "    </tr>\n",
       "    <tr>\n",
       "      <th>4</th>\n",
       "      <td>0.099607</td>\n",
       "      <td>0.000000</td>\n",
       "      <td>0.0</td>\n",
       "      <td>0.000000</td>\n",
       "      <td>0.0</td>\n",
       "      <td>0.0</td>\n",
       "      <td>0.031977</td>\n",
       "      <td>0.000000</td>\n",
       "      <td>0.0</td>\n",
       "      <td>0.107265</td>\n",
       "      <td>...</td>\n",
       "      <td>0.100241</td>\n",
       "      <td>0.033202</td>\n",
       "      <td>0.0</td>\n",
       "      <td>0.000000</td>\n",
       "      <td>0.000000</td>\n",
       "      <td>0.000000</td>\n",
       "      <td>0.041179</td>\n",
       "      <td>0.000000</td>\n",
       "      <td>0.073427</td>\n",
       "      <td>0.053934</td>\n",
       "    </tr>\n",
       "  </tbody>\n",
       "</table>\n",
       "<p>5 rows × 1500 columns</p>\n",
       "</div>"
      ],
      "text/plain": [
       "    ability      able  abreast    absorb  accelerate  access  accommodation  \\\n",
       "0  0.019419  0.000000      0.0  0.043866         0.0     0.0       0.000000   \n",
       "1  0.022123  0.024087      0.0  0.000000         0.0     0.0       0.000000   \n",
       "2  0.087626  0.063603      0.0  0.000000         0.0     0.0       0.000000   \n",
       "3  0.012834  0.013974      0.0  0.000000         0.0     0.0       0.012361   \n",
       "4  0.099607  0.000000      0.0  0.000000         0.0     0.0       0.031977   \n",
       "\n",
       "   according  accordingly   account  ...     world  worldwide  would  \\\n",
       "0   0.039992          0.0  0.000000  ...  0.058627   0.019419    0.0   \n",
       "1   0.000000          0.0  0.000000  ...  0.016698   0.000000    0.0   \n",
       "2   0.000000          0.0  0.000000  ...  0.000000   0.000000    0.0   \n",
       "3   0.000000          0.0  0.020731  ...  0.038748   0.012834    0.0   \n",
       "4   0.000000          0.0  0.107265  ...  0.100241   0.033202    0.0   \n",
       "\n",
       "      write    writer   writing   written      year       yes      york  \n",
       "0  0.000000  0.000000  0.000000  0.000000  0.000000  0.000000  0.031544  \n",
       "1  0.226809  0.104048  0.320112  0.000000  0.017228  0.000000  0.000000  \n",
       "2  0.000000  0.000000  0.000000  0.018113  0.011373  0.000000  0.000000  \n",
       "3  0.026316  0.000000  0.023214  0.000000  0.009995  0.000000  0.020848  \n",
       "4  0.000000  0.000000  0.000000  0.041179  0.000000  0.073427  0.053934  \n",
       "\n",
       "[5 rows x 1500 columns]"
      ]
     },
     "execution_count": 28,
     "metadata": {},
     "output_type": "execute_result"
    }
   ],
   "source": [
    "vector_Tf =TfidfVectorizer(max_df=0.95 , max_features=1500)\n",
    "Tfidf_vector =vector_Tf.fit_transform(clean_text)\n",
    "tf_idf = pd.DataFrame(Tfidf_vector.A , columns=vector_Tf.get_feature_names_out())\n",
    "tf_idf.head(5)"
   ]
  },
  {
   "cell_type": "code",
   "execution_count": 29,
   "id": "0c5b15b8",
   "metadata": {},
   "outputs": [
    {
     "name": "stdout",
     "output_type": "stream",
     "text": [
      "[['booking', 'com', 'long', 'ago', 'booking', 'trip', 'see', 'eiffel', 'tower', 'stroll', 'new', 'york', 'iconic', 'madison', 'avenue', 'feel', 'sand', 'toe', 'copacabana', 'beach', 'simply', 'matter', 'tap', 'smartphone', 'fact', 'booking', 'com', 'make', 'easier', 'everyone', 'experience', 'world', 'world', 'might', 'feel', 'little', 'farther', 'away', 'right', 'busy', 'preparing', 'world', 'ready', 'travel', 'across', 'office', 'worldwide', 'continue', 'innovate', 'solve', 'complex', 'challenge', 'travel', 'technology', 'plan', 'exciting', 'development', 'lie', 'ahead', 'strategic', 'long', 'term', 'investment', 'believe', 'future', 'travel', 'opening', 'new', 'career', 'opportunity', 'strong', 'impact', 'mission', 'united', 'belief', 'human', 'desire', 'explore', 'planet', 'beauty', 'discover', 'people', 'culture', 'endure', 'world', 'waiting', 'together', 'ready', 'service', 'want', 'service', 'positive', 'impact', 'entire', 'workforce', 'working', 'latest', 'technology', 'global', 'deployment', 'challenge', 'well', 'looking', 'talented', 'support', 'technician', 'join', 'service', 'department', 'amsterdam', 'service', 'design', 'build', 'maintain', 'corporate', 'technology', 'booking', 'com', 'workforce', 'need', 'day', 'day', 'turn', 'deliver', 'great', 'product', 'customer', 'includes', 'instance', 'saas', 'application', 'identity', 'sso', 'collaboration', 'tool', 'productivity', 'suite', 'communication', 'platform', 'endpoint', 'laptop', 'vdi', 'solution', 'video', 'conferencing', 'voice', 'infrastructure', 'connectivity', 'vpn', 'itsm', 'plethora', 'bespoke', 'developed', 'application', 'booking', 'service', 'organization', 'seeking', 'sharp', 'talented', 'energetic', 'support', 'team', 'lead', 'assist', 'enable', 'workforce', 'including', 'providing', 'excellent', 'user', 'support', 'analyzing', 'addressing', 'related', 'problem', 'looking', 'solution', 'automate', 'improve', 'process', 'junior', 'endpoint', 'engineer', 'booking', 'employee', 'base', 'diverse', 'globally', 'dispersed', 'therefore', 'rely', 'different', 'technology', 'order', 'achieve', 'goal', 'order', 'provide', 'colleague', 'best', 'class', 'secure', 'compliant', 'working', 'capability', 'need', 'make', 'sure', 'corporate', 'endpoint', 'device', 'properly', 'managed', 'junior', 'endpoint', 'engineer', 'help', 'maintain', 'administer', 'system', 'manage', 'global', 'fleet', 'containing', 'thousand', 'user', 'endpoint', 'working', 'part', 'endpoint', 'team', 'role', 'responsible', 'helping', 'deliver', 'compliant', 'frictionless', 'experience', 'colleague', 'device', 'following', 'process', 'guidance', 'provided', 'senior', 'team', 'member', 'industry', 'standard', 'responsible', 'delivers', 'capable', 'level', 'problem', 'solving', 'troubleshooting', 'device', 'management', 'system', 'flagging', 'opportunity', 'improvement', 'adheres', 'technology', 'process', 'best', 'practises', 'change', 'management', 'incident', 'handling', 'keeping', 'related', 'documentation', 'updated', 'accurate', 'assist', 'maintaining', 'system', 'manage', 'end', 'user', 'device', 'laptop', 'corporate', 'mobile', 'phone', 'corporate', 'tablet', 'etc', 'aim', 'improve', 'system', 'reliability', 'scalability', 'reduce', 'need', 'human', 'intervention', 'act', 'intermediary', 'support', 'endpoint', 'team', 'resolve', 'escalation', 'empower', 'support', 'possible', 'us', 'variety', 'dashboard', 'alert', 'actively', 'monitor', 'endpoint', 'environment', 'quickly', 'picking', 'resolving', 'escalating', 'anomaly', 'found', 'ensures', 'endpoint', 'inventory', 'data', 'accurate', 'date', 'device', 'traceable', 'correct', 'device', 'ownership', 'information', 'exists', 'inventory', 'state', 'change', 'captured', 'according', 'predefined', 'endpoint', 'lifecycle', 'understands', 'different', 'persona', 'exist', 'within', 'organisation', 'order', 'achieve', 'frictionless', 'user', 'experience', 'communicates', 'effectively', 'within', 'endpoint', 'team', 'bring', 'idea', 'team', 'discussion', 'keep', 'date', 'endpoint', 'technology', 'ambitious', 'learn', 'absorb', 'knowledge', 'including', 'building', 'relationship', 'service', 'wider', 'team', 'participates', 'call', 'rotation', 'hour', 'maintenance', 'required', 'skilled', 'confident', 'supporting', 'desktop', 'hardware', 'peripheral', 'across', 'variety', 'device', 'strong', 'knowledge', 'working', 'experience', 'configuration', 'support', 'failure', 'analysis', 'window', 'apple', 'operating', 'system', 'good', 'understanding', 'window', 'domain', 'dns', 'dhcp', 'active', 'directory', 'microsoft', 'officeunderstanding', 'enterprise', 'endpoint', 'management', 'software', 'understanding', 'infrastructure', 'related', 'technology', 'like', 'hardware', 'virtualization', 'networking', 'entry', 'level', 'scripting', 'powershell', 'applescript', 'bash', 'perl', 'python', 'understanding', 'deployment', 'across', 'hundred', 'user', 'endpoint', 'experience', 'package', 'management', 'solution', 'understanding', 'asset', 'management', 'inventory', 'tooling', 'accurately', 'track', 'current', 'endpoint', 'real', 'estate', 'nice', 'experience', 'mdm', 'management', 'solution', 'mac', 'understanding', 'maintaining', 'jamf', 'similar', 'enterprise', 'mac', 'fleet', 'management', 'solution', 'experience', 'administering', 'macos', 'enterprise', 'environment', 'capable', 'troubleshooting', 'macos', 'resolving', 'incident', 'clearly', 'documenting', 'resolution', 'window', 'understanding', 'vdi', 'solution', 'azure', 'window', 'virtual', 'desktop', 'aws', 'workspace', 'experience', 'working', 'configmgr', 'sccm', 'desktop', 'deployment', 'enterprise', 'environment', 'experience', 'cloud', 'service', 'specifically', 'em', 'microsoft', 'intune', 'experience', 'rolling', 'managing', 'system', 'scale', 'experience', 'window', 'administration', 'enterprise', 'environment', 'dhcp', 'dns', 'sql', 'server', 'linux', 'bonus', 'experience', 'managing', 'end', 'user', 'linux', 'device', 'enterprise', 'ability', 'maintain', 'company', 'supported', 'linux', 'distribution', 'experience', 'centos', 'ubuntu', 'distribution', 'offered', 'living', 'working', 'booking', 'office', 'working', 'fast', 'paced', 'performance', 'driven', 'culture', 'opportunity', 'utilise', 'technical', 'expertise', 'leadership', 'capability', 'entrepreneurial', 'spirit', 'competitive', 'compensation', 'benefit', 'package', 'great', 'added', 'perk', 'working', 'booking', 'com', 'booking', 'com', 'proud', 'equal', 'opportunity', 'workplace', 'affirmative', 'action', 'employer', 'qualified', 'applicant', 'receive', 'consideration', 'employment', 'without', 'regard', 'race', 'color', 'religion', 'gender', 'gender', 'identity', 'expression', 'sexual', 'orientation', 'national', 'origin', 'genetics', 'disability', 'age', 'veteran', 'status', 'strive', 'move', 'well', 'beyond', 'traditional', 'equal', 'opportunity', 'work', 'create', 'environment', 'allows', 'everyone', 'thrive'], ['booking', 'com', 'data', 'drive', 'decision', 'technology', 'core', 'innovation', 'everywhere', 'company', 'datasets', 'line', 'code', 'test', 'thrill', 'first', 'night', 'new', 'place', 'excitement', 'next', 'morning', 'friend', 'make', 'journey', 'take', 'sight', 'see', 'food', 'sample', 'product', 'partner', 'people', 'make', 'easier', 'everyone', 'experience', 'world', 'looking', 'copywriter', 'join', 'writing', 'team', 'marketing', 'supporting', 'business', 'travel', 'department', 'close', 'knit', 'writing', 'community', 'made', 'around', 'writer', 'creative', 'copywriter', 'writer', 'collaborate', 'across', 'product', 'integrated', 'marketing', 'campaign', 'goal', 'deliver', 'seamless', 'digital', 'experience', 'customer', 'one', 'voice', 'build', 'trust', 'engagement', 'brand', 'enhances', 'platform', 'experience', 'user', 'copywriter', 'marketing', 'embedded', 'product', 'team', 'work', 'alongside', 'designer', 'developer', 'researcher', 'product', 'manager', 'position', 'offer', 'successful', 'candidate', 'autonomy', 'create', 'test', 'scale', 'copywriter', 'business', 'travel', 'writing', 'team', 'expert', 'conceptualise', 'write', 'compelling', 'copy', 'communication', 'designed', 'inform', 'engage', 'inspire', 'different', 'audience', 'focus', 'business', 'customer', 'skill', 'range', 'short', 'form', 'copy', 'persuasion', 'seo', 'marketing', 'communication', 'write', 'copy', 'chatbots', 'product', 'feature', 'online', 'offline', 'marketing', 'campaign', 'test', 'hypothesis', 'examine', 'detailed', 'metric', 'use', 'data', 'decide', 'next', 'step', 'almost', 'everything', 'write', 'translated', 'different', 'language', 'dialect', 'also', 'key', 'point', 'contact', 'large', 'team', 'language', 'specialist', 'responsibility', 'perform', 'competitor', 'keyword', 'analysis', 'order', 'understand', 'demand', 'write', 'content', 'meet', 'customer', 'need', 'send', 'copy', 'language', 'specialist', 'sufficient', 'context', 'conceptual', 'visual', 'translating', 'idea', 'local', 'audience', 'collaborate', 'copywriter', 'ensure', 'copy', 'consistent', 'across', 'channel', 'create', 'copy', 'driven', 'experiment', 'support', 'product', 'goal', 'copy', 'strategy', 'use', 'qualitative', 'data', 'quantitative', 'data', 'key', 'metric', 'measure', 'impact', 'copy', 'transform', 'insight', 'new', 'iteration', 'skilled', 'candidate', 'copywriter', 'business', 'travel', 'posse', 'broad', 'range', 'ability', 'experienced', 'communication', 'native', 'level', 'fluency', 'english', 'portfolio', 'demonstrate', 'creative', 'writing', 'skill', 'knowledge', 'passionate', 'advocate', 'user', 'dedicated', 'craft', 'writing', 'creating', 'elegant', 'user', 'experience', 'comfortable', 'part', 'writing', 'process', 'brainstorming', 'researching', 'shipping', 'product', 'iterating', 'write', 'copy', 'intuitive', 'future', 'proof', 'scalable', 'attitude', 'work', 'well', 'independently', 'team', 'self', 'driven', 'take', 'full', 'ownership', 'idea', 'solve', 'challenging', 'problem', 'rapidly', 'changing', 'environment', 'welcome', 'feedback', 'critique', 'responding', 'creative', 'thinking', 'iteration', 'enjoy', 'working', 'people', 'diverse', 'background', 'culture', 'discipline', 'excellent', 'communication', 'skill', 'eye', 'detail', 'able', 'strategically', 'prioritize', 'multiple', 'project', 'stakeholder', 'experienced', 'least', 'year', 'experience', 'online', 'copywriting', 'emphasis', 'marketing', 'communication', 'experience', 'writing', 'customer', 'optimising', 'metric', 'testing', 'knowledge', 'experimentation', 'technique', 'experience', 'user', 'testing', 'shipping', 'new', 'product', 'feature', 'booking', 'com', 'proud', 'equal', 'opportunity', 'workplace', 'affirmative', 'action', 'employer', 'qualified', 'applicant', 'receive', 'consideration', 'employment', 'without', 'regard', 'race', 'colour', 'religion', 'gender', 'gender', 'identity', 'expression', 'sexual', 'orientation', 'national', 'origin', 'genetics', 'disability', 'age', 'veteran', 'status', 'strive', 'move', 'well', 'beyond', 'traditional', 'equal', 'opportunity', 'work', 'create', 'environment', 'allows', 'everyone', 'thrive', 'please', 'apply', 'via', 'website', 'english', 'link', 'portfolio', 'writing', 'sample', 'looking', 'forward', 'hearing'], ['booking', 'com', 'global', 'treasury', 'team', 'looking', 'treasury', 'risk', 'management', 'professional', 'join', 'growing', 'team', 'treasury', 'risk', 'specialist', 'responsible', 'performing', 'financial', 'analysis', 'operating', 'process', 'relating', 'identification', 'quantification', 'management', 'reporting', 'credit', 'counterparty', 'liquidity', 'treasury', 'risk', 'typology', 'attach', 'booking', 'evolving', 'business', 'model', 'strategic', 'initiative', 'third', 'party', 'relationship', 'individual', 'form', 'integral', 'part', 'treasury', 'risk', 'team', 'reporting', 'treasury', 'manager', 'function', 'preferred', 'candidate', 'accustomed', 'working', 'fast', 'paced', 'environment', 'working', 'collaboratively', 'across', 'various', 'internal', 'functional', 'team', 'candidate', 'able', 'demonstrate', 'proven', 'ability', 'perform', 'risk', 'analysis', 'reporting', 'drive', 'operational', 'efficiency', 'design', 'implementation', 'end', 'end', 'process', 'leveraging', 'adopting', 'new', 'technology', 'support', 'best', 'class', 'risk', 'management', 'reporting', 'characteristic', 'successful', 'candidate', 'include', 'strong', 'analytical', 'skill', 'experience', 'adopting', 'implementing', 'advanced', 'analytics', 'mean', 'making', 'data', 'driven', 'recommendation', 'complex', 'problem', 'successful', 'candidate', 'posse', 'excellent', 'communication', 'organisational', 'skill', 'able', 'partner', 'stakeholder', 'various', 'level', 'seniority', 'across', 'organisation', 'demonstrating', 'strong', 'business', 'judgement', 'skill', 'able', 'think', 'creatively', 'strategically', 'due', 'continuous', 'growth', 'organization', 'task', 'duty', 'role', 'evolve', 'time', 'keen', 'develop', 'grow', 'within', 'role', 'challenge', 'take', 'additional', 'project', 'responsibility', 'present', 'responsible', 'produce', 'high', 'quality', 'assessment', 'report', 'addressing', 'credit', 'counterparty', 'risk', 'financial', 'institution', 'fintech', 'partner', 'investment', 'related', 'activity', 'trip', 'provider', 'senior', 'management', 'steering', 'committee', 'internal', 'stakeholder', 'support', 'fundamental', 'credit', 'counterparty', 'risk', 'assessment', 'new', 'product', 'third', 'party', 'relationship', 'providing', 'recommendation', 'based', 'relative', 'value', 'assessment', 'leverage', 'available', 'technology', 'tooling', 'quantify', 'risk', 'exposure', 'perform', 'hoc', 'cyclical', 'credit', 'financial', 'analysis', 'across', 'applicable', 'counterparty', 'portfolio', 'responsible', 'ongoing', 'operation', 'maintenance', 'treasury', 'risk', 'management', 'system', 'ensure', 'data', 'quality', 'reporting', 'accuracy', 'seeking', 'continuous', 'efficiency', 'improvement', 'manage', 'credit', 'limit', 'assigned', 'financial', 'institution', 'monitor', 'breach', 'assigned', 'limit', 'work', 'stakeholder', 'manage', 'breach', 'periodic', 'basis', 'develop', 'optimal', 'limit', 'management', 'technique', 'ongoing', 'monitoring', 'maintenance', 'system', 'based', 'compliance', 'rule', 'investment', 'program', 'maintain', 'existing', 'risk', 'model', 'calculate', 'risk', 'score', 'quantify', 'expected', 'loss', 'applicable', 'counterparties', 'maintain', 'ensure', 'operational', 'compliance', 'regulation', 'dodd', 'frank', 'emir', 'perform', 'system', 'based', 'var', 'calculation', 'mtm', 'assessment', 'hedging', 'program', 'perform', 'required', 'analysis', 'support', 'interest', 'rate', 'determination', 'intercompany', 'lending', 'arrangement', 'existing', 'quarterly', 'process', 'control', 'determine', 'lease', 'discount', 'rate', 'lease', 'denominated', 'different', 'currency', 'seek', 'enhance', 'automate', 'current', 'reporting', 'mechanism', 'effectively', 'monitor', 'risk', 'exposure', 'maintain', 'risk', 'profile', 'counterparties', 'leveraging', 'key', 'technology', 'enablers', 'clearwater', 'reval', 'capital', 'bloomberg', 'sap', 'continuously', 'liaise', 'key', 'stakeholder', 'across', 'business', 'understand', 'business', 'priority', 'requirement', 'identify', 'associated', 'risk', 'support', 'business', 'decision', 'develop', 'strong', 'business', 'relationship', 'key', 'internal', 'stakeholder', 'across', 'finance', 'legal', 'tax', 'product', 'team', 'cross', 'functional', 'team', 'skilled', 'proven', 'professional', 'track', 'record', 'year', 'relevant', 'experience', 'gained', 'within', 'treasury', 'banking', 'related', 'field', 'master', 'degree', 'related', 'field', 'finance', 'statistic', 'economics', 'related', 'degree', 'specific', 'expertise', 'credit', 'counterparty', 'risk', 'management', 'technique', 'demonstrated', 'analytical', 'skill', 'determining', 'evaluating', 'quantifying', 'counterparty', 'risk', 'exposure', 'advanced', 'excel', 'skill', 'financial', 'modeling', 'skill', 'necessary', 'proven', 'experience', 'using', 'maintaining', 'complex', 'financial', 'model', 'ability', 'work', 'autonomous', 'reporting', 'risk', 'monitoring', 'implementing', 'risk', 'related', 'process', 'control', 'broad', 'knowledge', 'various', 'risk', 'typology', 'investment', 'liquidity', 'risk', 'broad', 'knowledge', 'micro', 'macroeconomic', 'factor', 'ability', 'translate', 'risk', 'based', 'decision', 'experience', 'clearwater', 'reval', 'capital', 'bloomberg', 'sap', 'plus', 'knowledge', 'sql', 'python', 'statistical', 'advanced', 'programming', 'language', 'plus', 'problem', 'solving', 'ability', 'aligned', 'high', 'attention', 'detail', 'excellent', 'analytical', 'organisational', 'project', 'management', 'skill', 'self', 'starter', 'able', 'work', 'minimal', 'supervision', 'ability', 'prioritize', 'task', 'meet', 'required', 'deadline', 'managing', 'competing', 'priority', 'working', 'within', 'faced', 'paced', 'environment', 'excellent', 'communication', 'skill', 'written', 'verbal', 'english', 'ability', 'effectively', 'convey', 'difficult', 'complex', 'information', 'easy', 'understandable', 'manner', 'adapting', 'style', 'approach', 'based', 'seniority', 'applicable', 'stakeholder', 'offered', 'performance', 'based', 'company', 'offer', 'career', 'advancement', 'lucrative', 'compensation', 'including', 'bonus', 'also', 'offer', 'called', 'booking', 'deal', 'competitive', 'benefit', 'position', 'open', 'candidate', 'globally', 'case', 'relocation', 'assist', 'generous', 'relocation', 'package', 'ensuring', 'smooth', 'transition', 'working', 'living', 'netherlands'], ['company', 'long', 'ago', 'booking', 'trip', 'see', 'eiffel', 'tower', 'stroll', 'new', 'york', 'iconic', 'madison', 'avenue', 'feel', 'sand', 'toe', 'copacabana', 'beach', 'simply', 'matter', 'tap', 'smartphone', 'fact', 'booking', 'com', 'make', 'easier', 'everyone', 'experience', 'world', 'world', 'might', 'feel', 'little', 'farther', 'away', 'right', 'busy', 'preparing', 'world', 'ready', 'travel', 'across', 'office', 'worldwide', 'continue', 'innovate', 'solve', 'complex', 'challenge', 'travel', 'technology', 'plan', 'exciting', 'development', 'lie', 'ahead', 'strategic', 'long', 'term', 'investment', 'believe', 'future', 'travel', 'opening', 'new', 'career', 'opportunity', 'strong', 'impact', 'mission', 'united', 'belief', 'human', 'desire', 'explore', 'planet', 'beauty', 'discover', 'people', 'culture', 'endure', 'world', 'waiting', 'together', 'ready', 'booking', 'com', 'core', 'value', 'think', 'customer', 'first', 'succeed', 'together', 'learn', 'forever', 'right', 'thing', 'team', 'booking', 'com', 'insurance', 'easiest', 'way', 'protect', 'trip', 'travel', 'peace', 'mind', 'part', 'connected', 'trip', 'vision', 'booking', 'com', 'ambitious', 'growth', 'plan', 'insurance', 'business', 'look', 'develop', 'global', 'footprint', 'insurance', 'product', 'offering', 'across', 'group', 'innovation', 'industry', 'sector', 'knowledge', 'clear', 'customer', 'focus', 'team', 'challenge', 'substantially', 'enhance', 'group', 'customer', 'insurance', 'experience', 'drive', 'profitable', 'account', 'working', 'collaboration', 'leading', 'industry', 'partner', 'insurance', 'product', 'designed', 'give', 'customer', 'assurance', 'protection', 'need', 'allow', 'relax', 'enjoy', 'trip', 'great', 'value', 'cover', 'backed', 'first', 'class', 'experience', 'need', 'make', 'claim', 'role', 'key', 'step', 'towards', 'achieving', 'goal', 'delivery', 'new', 'suite', 'claim', 'handling', 'policy', 'admin', 'tool', 'enable', 'insurance', 'team', 'offer', 'top', 'quality', 'claim', 'service', 'across', 'growing', 'range', 'insurance', 'product', 'technical', 'product', 'manager', 'product', 'team', 'working', 'within', 'existing', 'insurance', 'platform', 'new', 'capability', 'interpret', 'policy', 'data', 'enable', 'customer', 'self', 'service', 'policy', 'amendment', 'renewal', 'request', 'integrate', 'third', 'party', 'claim', 'handling', 'service', 'underwriting', 'partner', 'develop', 'comprehensive', 'suite', 'operational', 'commercial', 'regulatory', 'reporting', 'capability', 'initial', 'focus', 'team', 'developing', 'full', 'range', 'policy', 'amendment', 'capability', 'support', 'recently', 'launched', 'room', 'cancellation', 'single', 'trip', 'travel', 'insurance', 'product', 'team', 'also', 'play', 'critical', 'role', 'development', 'future', 'annual', 'insurance', 'product', 'policy', 'administration', 'need', 'extend', 'manage', 'full', 'policy', 'lifecycle', 'including', 'renewal', 'drive', 'evolution', 'looking', 'highly', 'motivated', 'technical', 'product', 'manager', 'thrives', 'fast', 'paced', 'collaborative', 'environment', 'life', 'delight', 'customer', 'actively', 'drive', 'product', 'strategy', 'product', 'area', 'delivering', 'product', 'excellence', 'innovation', 'working', 'closely', 'product', 'team', 'external', 'system', 'partner', 'expect', 'deeply', 'committed', 'solving', 'user', 'pain', 'point', 'identifying', 'opportunity', 'improve', 'experience', 'put', 'data', 'heart', 'design', 'develop', 'implement', 'product', 'solution', 'address', 'clear', 'user', 'need', 'aligned', 'company', 'vision', 'strategy', 'part', 'trip', 'business', 'unit', 'booking', 'com', 'based', 'manchester', 'role', 'sits', 'within', 'insurance', 'product', 'group', 'primarily', 'individual', 'contributor', 'role', 'possible', 'coach', 'mentor', 'others', 'depending', 'skill', 'experience', 'development', 'plan', 'business', 'need', 'part', 'growing', 'tech', 'company', 'high', 'performer', 'expect', 'extensive', 'opportunity', 'progression', 'development', 'responsibility', 'successfully', 'deliver', 'innovative', 'product', 'fast', 'paced', 'working', 'environment', 'need', 'develop', 'deep', 'understanding', 'current', 'future', 'customer', 'need', 'respect', 'insurance', 'cover', 'supporting', 'claim', 'experience', 'gather', 'data', 'insight', 'insurance', 'market', 'sale', 'funnel', 'competitor', 'claim', 'team', 'identify', 'inform', 'prioritisation', 'product', 'opportunity', 'work', 'senior', 'product', 'manager', 'key', 'stakeholder', 'define', 'overall', 'vision', 'strategy', 'roadmap', 'insurance', 'product', 'line', 'maintain', 'strong', 'focus', 'monitoring', 'measurement', 'product', 'inform', 'commercial', 'relationship', 'insurance', 'partner', 'ensure', 'team', 'developing', 'product', 'accordance', 'relevant', 'insurance', 'regulatory', 'compliance', 'guideline', 'address', 'regulatory', 'compliance', 'risk', 'identified', 'product', 'adapting', 'new', 'legislation', 'regulatory', 'change', 'required', 'deadline', 'complete', 'necessary', 'insurance', 'refresher', 'training', 'cpd', 'per', 'idd', 'guideline', 'work', 'collaboratively', 'team', 'developer', 'designer', 'tester', 'deliver', 'product', 'delight', 'customer', 'accountable', 'end', 'end', 'delivery', 'product', 'ensure', 'team', 'well', 'defined', 'epic', 'story', 'aligned', 'objective', 'key', 'result', 'write', 'review', 'take', 'responsibility', 'clear', 'concise', 'comprehensive', 'technical', 'documentation', 'adhere', 'default', 'principle', 'architecture', 'quality', 'non', 'functional', 'requirement', 'work', 'agile', 'coach', 'team', 'drive', 'continuous', 'efficiency', 'improvement', 'better', 'way', 'working', 'communicate', 'multiple', 'key', 'stakeholder', 'keep', 'date', 'bought', 'product', 'development', 'skill', 'experience', 'working', 'product', 'team', 'architect', 'principal', 'shape', 'future', 'core', 'insurance', 'platform', 'expect', 'strong', 'analytical', 'skill', 'understand', 'technology', 'able', 'collaborate', 'stakeholder', 'across', 'organisation', 'year', 'experience', 'working', 'product', 'manager', 'insurance', 'regulated', 'product', 'environment', 'understand', 'enjoy', 'challenge', 'working', 'within', 'financial', 'service', 'regulatory', 'ecosystem', 'robust', 'business', 'analysis', 'skill', 'technique', 'including', 'writing', 'user', 'story', 'acceptance', 'criterion', 'documenting', 'technical', 'requirement', 'experience', 'completing', 'excellent', 'product', 'discovery', 'proficient', 'working', 'within', 'agile', 'product', 'based', 'organisation', 'solid', 'experience', 'modelling', 'system', 'workflow', 'component', 'data', 'model', 'solid', 'experience', 'running', 'workshop', 'experience', 'communicating', 'concept', 'idea', 'stakeholder', 'level', 'within', 'organisation', 'confident', 'personality', 'influence', 'decision', 'making', 'level', 'within', 'organisation', 'ability', 'simplify', 'complex', 'problem', 'component', 'part', 'evaluate', 'systematically', 'evidence', 'problem', 'solving', 'providing', 'creative', 'solution', 'desirable', 'skill', 'experience', 'working', 'policy', 'administration', 'claim', 'system', 'experience', 'working', 'external', 'system', 'provider', 'technical', 'partner', 'experience', 'working', 'data', 'sql', 'understanding', 'monitoring', 'analytical', 'tool', 'kibana', 'grafana', 'benefit', 'vacation', 'day', 'rising', 'exploring', 'generous', 'accommodation', 'discount', 'explore', 'le', 'bonus', 'package', 'pension', 'matched', 'company', 'contribution', 'huge', 'learning', 'development', 'platform', 'tailored', 'shopping', 'leisure', 'discount', 'perkbox', 'interest', 'free', 'travel', 'loan', 'discounted', 'car', 'parking', 'competitive', 'maternity', 'paternity', 'adoption', 'leave', 'flexible', 'working', 'including', 'working', 'home'], ['account', 'executive', 'bristol', 'full', 'time', 'position', 'based', 'amazing', 'manchester', 'office', 'company', 'long', 'ago', 'booking', 'trip', 'see', 'eiffel', 'tower', 'stroll', 'new', 'york', 'iconic', 'madison', 'avenue', 'feel', 'sand', 'toe', 'copacabana', 'beach', 'simply', 'matter', 'tap', 'smartphone', 'fact', 'booking', 'com', 'make', 'easier', 'everyone', 'experience', 'world', 'world', 'might', 'feel', 'little', 'farther', 'away', 'right', 'busy', 'preparing', 'world', 'ready', 'travel', 'across', 'office', 'worldwide', 'continue', 'innovate', 'solve', 'complex', 'challenge', 'travel', 'technology', 'plan', 'exciting', 'development', 'lie', 'ahead', 'strategic', 'long', 'term', 'investment', 'believe', 'future', 'travel', 'opening', 'new', 'career', 'opportunity', 'strong', 'impact', 'mission', 'united', 'belief', 'human', 'desire', 'explore', 'planet', 'beauty', 'discover', 'people', 'culture', 'endure', 'world', 'waiting', 'together', 'ready', 'enjoy', 'taking', 'ownership', 'responsible', 'internal', 'business', 'portfolio', 'thrive', 'building', 'strong', 'relationship', 'phone', 'help', 'booking', 'com', 'partner', 'grow', 'business', 'providing', 'analysis', 'growth', 'opportunity', 'new', 'product', 'service', 'answer', 'yes', 'might', 'take', 'next', 'account', 'executive', 'manchester', 'office', 'pro', 'active', 'communication', 'partner', 'region', 'telephone', 'internal', 'messaging', 'assist', 'development', 'booking', 'com', 'business', 'responsible', 'portfolio', 'partner', 'first', 'point', 'contact', 'answering', 'question', 'following', 'needed', 'responsible', 'maintaining', 'stable', 'relationship', 'accommodation', 'partner', 'frequent', 'performance', 'call', 'contact', 'ensure', 'offer', 'booking', 'com', 'customer', 'best', 'availability', 'competitive', 'pricing', 'knowledgeable', 'booking', 'com', 'product', 'benefit', 'usage', 'explained', 'partner', 'identify', 'opportunity', 'partner', 'help', 'improve', 'booking', 'com', 'business', 'using', 'internal', 'segmentation', 'prioritise', 'help', 'identifying', 'new', 'potential', 'partner', 'lead', 'pas', 'lead', 'follow', 'responsible', 'taking', 'customer', 'service', 'escalation', 'relate', 'managed', 'portfolio', 'solving', 'efficient', 'manner', 'business', 'partner', 'customer', 'support', 'organisation', 'event', 'workshop', 'webinars', 'partner', 'also', 'expected', 'attend', 'participate', 'partner', 'event', 'managed', 'portfolio', 'bring', 'strong', 'engaging', 'communication', 'skill', 'solution', 'oriented', 'result', 'driven', 'ability', 'influence', 'partner', 'phone', 'implement', 'suggestion', 'strong', 'work', 'ethic', 'self', 'directed', 'resourceful', 'proactive', 'flexible', 'capable', 'working', 'independently', 'well', 'working', 'team', 'ability', 'prioritise', 'workload', 'efficiently', 'manage', 'time', 'eye', 'accuracy', 'ability', 'analytical', 'language', 'english', 'written', 'verbal', 'return', 'provide', 'performance', 'based', 'company', 'competitive', 'salary', 'bonus', 'great', 'platform', 'learning', 'development', 'opportunity', 'work', 'brightest', 'mind', 'planet', 'please', 'submit', 'motivation', 'letter', 'english']]"
     ]
    }
   ],
   "source": [
    "# Input Text for Word2Vec it required list inside list type of text\n",
    "ip_word2vec = [word for word in df['Clean_Job_Description']]\n",
    "print(ip_word2vec[:5] , end ='')"
   ]
  },
  {
   "cell_type": "code",
   "execution_count": 30,
   "id": "6e96c869",
   "metadata": {},
   "outputs": [],
   "source": [
    "model = Word2Vec(sentences =ip_word2vec ,window=8,min_count=1 ) # Word to vec Vectorsier with CBOW architecture\n",
    "model.save('word2vec.model')"
   ]
  },
  {
   "cell_type": "code",
   "execution_count": 31,
   "id": "9470f44f",
   "metadata": {},
   "outputs": [
    {
     "data": {
      "text/plain": [
       "[('ever', 0.847094714641571),\n",
       " ('sector', 0.7929738163948059),\n",
       " ('marketplace', 0.7609112858772278),\n",
       " ('affinity', 0.7565975785255432),\n",
       " ('commerce', 0.7303916811943054),\n",
       " ('online', 0.7167242765426636),\n",
       " ('travel', 0.715103030204773),\n",
       " ('mandatory', 0.700110137462616),\n",
       " ('gd', 0.6972806453704834),\n",
       " ('license', 0.688389241695404)]"
      ]
     },
     "execution_count": 31,
     "metadata": {},
     "output_type": "execute_result"
    }
   ],
   "source": [
    "model.wv.most_similar('industry') # To test working of Word2Vec Model "
   ]
  },
  {
   "cell_type": "code",
   "execution_count": 32,
   "id": "b86e3d06",
   "metadata": {},
   "outputs": [],
   "source": [
    "# Creation of word 2 vector\n",
    "\n",
    "def word2_vec(data,model):\n",
    "    feature = [] # to append vector of each review\n",
    "    for rew in data : # iterate over reviews\n",
    "        zero_vector = np.zeros(model.vector_size) # zero vector for handling key error\n",
    "        vectors = [] # append vector of each word\n",
    "        for word in rew:\n",
    "            if word in model.wv : # we are checking if word is present in model\n",
    "                try :\n",
    "                    vectors.append(model.wv[word]) # get vector\n",
    "                except KeyError:\n",
    "                    continue\n",
    "        if vectors:\n",
    "            vectors = np.asarray(vectors) #  merging all arrays into a single array\n",
    "            avg_vec = vectors.mean(axis=0) # average of all vectors\n",
    "            feature.append(avg_vec) # appending vector of each review\n",
    "        else :\n",
    "            feature.append(zero_vector) \n",
    "    return feature"
   ]
  },
  {
   "cell_type": "code",
   "execution_count": 33,
   "id": "1b3a3452",
   "metadata": {},
   "outputs": [],
   "source": [
    "x_word_2vec = word2_vec(ip_word2vec,model)\n",
    "x_word_vec=np.array(x_word_2vec)\n"
   ]
  },
  {
   "cell_type": "markdown",
   "id": "e14d4183",
   "metadata": {},
   "source": [
    "# To Build Diffrent model using diffrenet vectoriser"
   ]
  },
  {
   "cell_type": "code",
   "execution_count": 34,
   "id": "356ddb22",
   "metadata": {},
   "outputs": [],
   "source": [
    "# Kmeans Model Creation function output of this function is model and predict column\n",
    "def build_model(clusters,data):\n",
    "    kmeans_model  = KMeans(n_clusters=clusters)\n",
    "    y_pred = kmeans_model.fit_predict(data)\n",
    "    return kmeans_model,y_pred"
   ]
  },
  {
   "cell_type": "code",
   "execution_count": 35,
   "id": "e03fd89f",
   "metadata": {},
   "outputs": [],
   "source": [
    "# KMeans-Model with count vectoriser vectors (14 Clusters)\n",
    "kmeans_model_count,y_pred_count = build_model(14,Count_Vector_df)"
   ]
  },
  {
   "cell_type": "code",
   "execution_count": 36,
   "id": "e15d6390",
   "metadata": {},
   "outputs": [],
   "source": [
    "# Kmeans-Model with Tfidf vectoriser (14 Clusters) \n",
    "kmeans_model_tfidf,y_pred_tfidf = build_model(14,tf_idf)"
   ]
  },
  {
   "cell_type": "code",
   "execution_count": 37,
   "id": "5c81ce19",
   "metadata": {},
   "outputs": [],
   "source": [
    "# Kmeans -Model with Word2Vec Vectoriser (14 Clusters)\n",
    "kmeans_model_word2vec,y_pred_word2vec= build_model(14,x_word_vec)"
   ]
  },
  {
   "cell_type": "markdown",
   "id": "c79ccf0a",
   "metadata": {},
   "source": [
    "# Evaluation Of Data"
   ]
  },
  {
   "cell_type": "code",
   "execution_count": 38,
   "id": "796820e1",
   "metadata": {},
   "outputs": [
    {
     "name": "stdout",
     "output_type": "stream",
     "text": [
      "Silhouette score of KMeans-Count : 0.07151063845962405\n",
      "Silhouette score of KMeans-Tfidf : 0.11458464213899155\n",
      "Silhouette score of KMeans-word2vec : 0.1709732562303543\n"
     ]
    }
   ],
   "source": [
    "#Evaluation using silhouette visualiser\n",
    "print(f\"Silhouette score of KMeans-Count : {silhouette_score(Count_Vector_df,y_pred_count)}\")\n",
    "print(f\"Silhouette score of KMeans-Tfidf : {silhouette_score(tf_idf,y_pred_tfidf)}\")\n",
    "print(f\"Silhouette score of KMeans-word2vec : {silhouette_score(x_word_vec,y_pred_word2vec)}\")"
   ]
  },
  {
   "cell_type": "markdown",
   "id": "41e47305",
   "metadata": {},
   "source": [
    "#### We Found That best result received using Kmeans and Word2Vec Vectors"
   ]
  },
  {
   "cell_type": "code",
   "execution_count": 39,
   "id": "d6401198",
   "metadata": {},
   "outputs": [],
   "source": [
    "#Visualisation of Cluster Created By KMEANS \n",
    "def visualize_silhouette(data,model,title1):\n",
    "    visualizer = SilhouetteVisualizer(model,colors='yellowbrick')\n",
    "    visualizer.fit(data)\n",
    "    plt.title(f\"{title1}\")\n",
    "    "
   ]
  },
  {
   "cell_type": "code",
   "execution_count": 40,
   "id": "a6ab051e",
   "metadata": {},
   "outputs": [
    {
     "name": "stderr",
     "output_type": "stream",
     "text": [
      "C:\\Users\\GhanaPallavi\\AppData\\Local\\Programs\\Python\\Python310\\lib\\site-packages\\sklearn\\base.py:450: UserWarning: X does not have valid feature names, but KMeans was fitted with feature names\n",
      "  warnings.warn(\n"
     ]
    },
    {
     "data": {
      "image/png": "[encoded data removed]",
      "text/plain": [
       "<Figure size 432x288 with 1 Axes>"
      ]
     },
     "metadata": {
      "needs_background": "light"
     },
     "output_type": "display_data"
    }
   ],
   "source": [
    "# kmeans-count \n",
    "visualize_silhouette(Count_Vector_df,kmeans_model_count,\"kmeans-count\")"
   ]
  },
  {
   "cell_type": "code",
   "execution_count": 41,
   "id": "98f85be6",
   "metadata": {},
   "outputs": [
    {
     "name": "stderr",
     "output_type": "stream",
     "text": [
      "C:\\Users\\GhanaPallavi\\AppData\\Local\\Programs\\Python\\Python310\\lib\\site-packages\\sklearn\\base.py:450: UserWarning: X does not have valid feature names, but KMeans was fitted with feature names\n",
      "  warnings.warn(\n"
     ]
    },
    {
     "data": {
      "image/png": "[encoded data removed]",
      "text/plain": [
       "<Figure size 432x288 with 1 Axes>"
      ]
     },
     "metadata": {
      "needs_background": "light"
     },
     "output_type": "display_data"
    }
   ],
   "source": [
    "# kmeans-tfidf\n",
    "visualize_silhouette(tf_idf,kmeans_model_tfidf,\"kmeans-tfidf\")"
   ]
  },
  {
   "cell_type": "code",
   "execution_count": 42,
   "id": "505b5e69",
   "metadata": {},
   "outputs": [
    {
     "data": {
      "image/png": "[encoded data removed]",
      "text/plain": [
       "<Figure size 432x288 with 1 Axes>"
      ]
     },
     "metadata": {
      "needs_background": "light"
     },
     "output_type": "display_data"
    }
   ],
   "source": [
    "# kmeans-Word2Vec\n",
    "visualize_silhouette(x_word_vec,kmeans_model_word2vec,\"kmeans-Word2Vec\")"
   ]
  },
  {
   "cell_type": "markdown",
   "id": "2b592ded",
   "metadata": {},
   "source": [
    "# From Above It cleared that we obtained good Results with Word2Vec vectors score is towards + ve side"
   ]
  },
  {
   "cell_type": "markdown",
   "id": "b546e4c5",
   "metadata": {},
   "source": [
    "\n",
    "# Ngrmas Visualisation From Data"
   ]
  },
  {
   "cell_type": "code",
   "execution_count": 44,
   "id": "9f999093",
   "metadata": {},
   "outputs": [
    {
     "data": {
      "text/plain": [
       "[('booking com', 3160),\n",
       " ('equal opportunity', 560),\n",
       " ('experience world', 541),\n",
       " ('everyone experience', 484),\n",
       " ('make easier', 408),\n",
       " ('easier everyone', 387),\n",
       " ('fast paced', 353),\n",
       " ('business unit', 322),\n",
       " ('long term', 310),\n",
       " ('year experience', 310),\n",
       " ('opportunity work', 309),\n",
       " ('gender identity', 286),\n",
       " ('sexual orientation', 286),\n",
       " ('national origin', 285),\n",
       " ('qualified applicant', 281),\n",
       " ('applicant receive', 281),\n",
       " ('receive consideration', 281),\n",
       " ('consideration employment', 281),\n",
       " ('employment without', 280),\n",
       " ('without regard', 280),\n",
       " ('gender gender', 280),\n",
       " ('veteran status', 280),\n",
       " ('work create', 279),\n",
       " ('regard race', 276),\n",
       " ('religion gender', 276),\n",
       " ('identity expression', 276),\n",
       " ('expression sexual', 276),\n",
       " ('orientation national', 276),\n",
       " ('origin genetics', 276),\n",
       " ('genetics disability', 276)]"
      ]
     },
     "execution_count": 44,
     "metadata": {},
     "output_type": "execute_result"
    }
   ],
   "source": [
    "def ngrams_visual(data ,n_grms):\n",
    "    ngrams_ = ngrams(data ,n_grms)\n",
    "    return ngrams_\n",
    "zip_file = df['Clean_Job_Description'].apply(lambda x:ngrams_visual(x , 2)) # Bigrams Visualisaton  \n",
    "ngrams_total =[] \n",
    "for zip_ in zip_file:\n",
    "    ng =[]\n",
    "    for ngrams_ in zip_:\n",
    "        ng.append(' '.join([ngrams_[0],ngrams_[1]]))\n",
    "    ngrams_total.extend(ng)\n",
    "from collections import  Counter\n",
    "Counter(ngrams_total).most_common(30)\n",
    "      "
   ]
  },
  {
   "cell_type": "code",
   "execution_count": 45,
   "id": "a7cc0e9b",
   "metadata": {},
   "outputs": [],
   "source": [
    "# Trigrams Visualization"
   ]
  },
  {
   "cell_type": "code",
   "execution_count": 46,
   "id": "4acacb51",
   "metadata": {},
   "outputs": [
    {
     "data": {
      "text/plain": [
       "[('everyone experience world', 484),\n",
       " ('easier everyone experience', 384),\n",
       " ('make easier everyone', 373),\n",
       " ('qualified applicant receive', 281),\n",
       " ('applicant receive consideration', 281),\n",
       " ('receive consideration employment', 281),\n",
       " ('consideration employment without', 280),\n",
       " ('employment without regard', 280),\n",
       " ('gender gender identity', 280),\n",
       " ('without regard race', 276),\n",
       " ('religion gender gender', 276),\n",
       " ('gender identity expression', 276),\n",
       " ('identity expression sexual', 276),\n",
       " ('expression sexual orientation', 276),\n",
       " ('sexual orientation national', 276),\n",
       " ('orientation national origin', 276),\n",
       " ('national origin genetics', 276),\n",
       " ('origin genetics disability', 276),\n",
       " ('genetics disability age', 276),\n",
       " ('equal opportunity workplace', 275),\n",
       " ('opportunity workplace affirmative', 275),\n",
       " ('workplace affirmative action', 275),\n",
       " ('affirmative action employer', 275),\n",
       " ('action employer qualified', 275),\n",
       " ('employer qualified applicant', 275),\n",
       " ('veteran status strive', 275),\n",
       " ('status strive move', 275),\n",
       " ('strive move well', 275),\n",
       " ('move well beyond', 275),\n",
       " ('well beyond traditional', 275)]"
      ]
     },
     "execution_count": 46,
     "metadata": {},
     "output_type": "execute_result"
    }
   ],
   "source": [
    "def ngrams_visual(data ,n_grms):\n",
    "    ngrams_ = ngrams(data ,n_grms)\n",
    "    return ngrams_\n",
    "zip_file = df['Clean_Job_Description'].apply(lambda x:ngrams_visual(x , 3)) \n",
    "ngrams_total =[] \n",
    "for zip_ in zip_file:\n",
    "    ng =[]\n",
    "    for ngrams_ in zip_:\n",
    "        ng.append(' '.join([ngrams_[0],ngrams_[1] ,ngrams_[2]]))\n",
    "    ngrams_total.extend(ng)\n",
    "from collections import  Counter\n",
    "Counter(ngrams_total).most_common(30)"
   ]
  },
  {
   "cell_type": "code",
   "execution_count": 47,
   "id": "637cd55c",
   "metadata": {},
   "outputs": [],
   "source": [
    "# Creation of Diffrent Data Frame to find Kyphrases from train data \n",
    "# I Used here root cause analysis type approch"
   ]
  },
  {
   "cell_type": "code",
   "execution_count": 48,
   "id": "2eb6641b",
   "metadata": {},
   "outputs": [
    {
     "data": {
      "text/html": [
       "<div>\n",
       "<style scoped>\n",
       "    .dataframe tbody tr th:only-of-type {\n",
       "        vertical-align: middle;\n",
       "    }\n",
       "\n",
       "    .dataframe tbody tr th {\n",
       "        vertical-align: top;\n",
       "    }\n",
       "\n",
       "    .dataframe thead th {\n",
       "        text-align: right;\n",
       "    }\n",
       "</style>\n",
       "<table border=\"1\" class=\"dataframe\">\n",
       "  <thead>\n",
       "    <tr style=\"text-align: right;\">\n",
       "      <th></th>\n",
       "      <th>Team</th>\n",
       "      <th>job_description</th>\n",
       "      <th>Clean_Job_Description</th>\n",
       "    </tr>\n",
       "  </thead>\n",
       "  <tbody>\n",
       "    <tr>\n",
       "      <th>0</th>\n",
       "      <td>Engineering</td>\n",
       "      <td>Booking com It wasn t so long ago that booking...</td>\n",
       "      <td>[booking, com, long, ago, booking, trip, see, ...</td>\n",
       "    </tr>\n",
       "    <tr>\n",
       "      <th>1</th>\n",
       "      <td>Design &amp; User Experience</td>\n",
       "      <td>At Booking com data drives our decisions Techn...</td>\n",
       "      <td>[booking, com, data, drive, decision, technolo...</td>\n",
       "    </tr>\n",
       "    <tr>\n",
       "      <th>2</th>\n",
       "      <td>Finance</td>\n",
       "      <td>Booking com s global treasury team is looking ...</td>\n",
       "      <td>[booking, com, global, treasury, team, looking...</td>\n",
       "    </tr>\n",
       "    <tr>\n",
       "      <th>3</th>\n",
       "      <td>Product</td>\n",
       "      <td>About the company It wasn t so long ago that b...</td>\n",
       "      <td>[company, long, ago, booking, trip, see, eiffe...</td>\n",
       "    </tr>\n",
       "    <tr>\n",
       "      <th>4</th>\n",
       "      <td>Business Development &amp; Support</td>\n",
       "      <td>Account Executive Bristol This is a full time ...</td>\n",
       "      <td>[account, executive, bristol, full, time, posi...</td>\n",
       "    </tr>\n",
       "    <tr>\n",
       "      <th>...</th>\n",
       "      <td>...</td>\n",
       "      <td>...</td>\n",
       "      <td>...</td>\n",
       "    </tr>\n",
       "    <tr>\n",
       "      <th>648</th>\n",
       "      <td>Engineering</td>\n",
       "      <td>It wasn t so long ago that booking a trip so s...</td>\n",
       "      <td>[long, ago, booking, trip, see, eiffel, tower,...</td>\n",
       "    </tr>\n",
       "    <tr>\n",
       "      <th>649</th>\n",
       "      <td>Engineering</td>\n",
       "      <td>Senior Front End Developer Who are we At Booki...</td>\n",
       "      <td>[senior, front, end, developer, booking, com, ...</td>\n",
       "    </tr>\n",
       "    <tr>\n",
       "      <th>650</th>\n",
       "      <td>Engineering</td>\n",
       "      <td>At Booking com we make it easier for everyone ...</td>\n",
       "      <td>[booking, com, make, easier, everyone, experie...</td>\n",
       "    </tr>\n",
       "    <tr>\n",
       "      <th>651</th>\n",
       "      <td>Engineering</td>\n",
       "      <td>Senior Java Developer Who are we At Booking co...</td>\n",
       "      <td>[senior, java, developer, booking, com, make, ...</td>\n",
       "    </tr>\n",
       "    <tr>\n",
       "      <th>652</th>\n",
       "      <td>Engineering</td>\n",
       "      <td>At Booking com data drives our decisions Techn...</td>\n",
       "      <td>[booking, com, data, drive, decision, technolo...</td>\n",
       "    </tr>\n",
       "  </tbody>\n",
       "</table>\n",
       "<p>649 rows × 3 columns</p>\n",
       "</div>"
      ],
      "text/plain": [
       "                               Team  \\\n",
       "0                       Engineering   \n",
       "1          Design & User Experience   \n",
       "2                           Finance   \n",
       "3                           Product   \n",
       "4    Business Development & Support   \n",
       "..                              ...   \n",
       "648                     Engineering   \n",
       "649                     Engineering   \n",
       "650                     Engineering   \n",
       "651                     Engineering   \n",
       "652                     Engineering   \n",
       "\n",
       "                                       job_description  \\\n",
       "0    Booking com It wasn t so long ago that booking...   \n",
       "1    At Booking com data drives our decisions Techn...   \n",
       "2    Booking com s global treasury team is looking ...   \n",
       "3    About the company It wasn t so long ago that b...   \n",
       "4    Account Executive Bristol This is a full time ...   \n",
       "..                                                 ...   \n",
       "648  It wasn t so long ago that booking a trip so s...   \n",
       "649  Senior Front End Developer Who are we At Booki...   \n",
       "650  At Booking com we make it easier for everyone ...   \n",
       "651  Senior Java Developer Who are we At Booking co...   \n",
       "652  At Booking com data drives our decisions Techn...   \n",
       "\n",
       "                                 Clean_Job_Description  \n",
       "0    [booking, com, long, ago, booking, trip, see, ...  \n",
       "1    [booking, com, data, drive, decision, technolo...  \n",
       "2    [booking, com, global, treasury, team, looking...  \n",
       "3    [company, long, ago, booking, trip, see, eiffe...  \n",
       "4    [account, executive, bristol, full, time, posi...  \n",
       "..                                                 ...  \n",
       "648  [long, ago, booking, trip, see, eiffel, tower,...  \n",
       "649  [senior, front, end, developer, booking, com, ...  \n",
       "650  [booking, com, make, easier, everyone, experie...  \n",
       "651  [senior, java, developer, booking, com, make, ...  \n",
       "652  [booking, com, data, drive, decision, technolo...  \n",
       "\n",
       "[649 rows x 3 columns]"
      ]
     },
     "execution_count": 48,
     "metadata": {},
     "output_type": "execute_result"
    }
   ],
   "source": [
    "df"
   ]
  },
  {
   "cell_type": "code",
   "execution_count": 49,
   "id": "ad7ed35e",
   "metadata": {},
   "outputs": [],
   "source": [
    "df['Clusters'] = y_pred_word2vec"
   ]
  },
  {
   "cell_type": "code",
   "execution_count": 50,
   "id": "954ba7a6",
   "metadata": {},
   "outputs": [
    {
     "data": {
      "text/html": [
       "<div>\n",
       "<style scoped>\n",
       "    .dataframe tbody tr th:only-of-type {\n",
       "        vertical-align: middle;\n",
       "    }\n",
       "\n",
       "    .dataframe tbody tr th {\n",
       "        vertical-align: top;\n",
       "    }\n",
       "\n",
       "    .dataframe thead th {\n",
       "        text-align: right;\n",
       "    }\n",
       "</style>\n",
       "<table border=\"1\" class=\"dataframe\">\n",
       "  <thead>\n",
       "    <tr style=\"text-align: right;\">\n",
       "      <th></th>\n",
       "      <th>Team</th>\n",
       "      <th>job_description</th>\n",
       "      <th>Clean_Job_Description</th>\n",
       "      <th>Clusters</th>\n",
       "    </tr>\n",
       "  </thead>\n",
       "  <tbody>\n",
       "    <tr>\n",
       "      <th>0</th>\n",
       "      <td>Engineering</td>\n",
       "      <td>Booking com It wasn t so long ago that booking...</td>\n",
       "      <td>[booking, com, long, ago, booking, trip, see, ...</td>\n",
       "      <td>1</td>\n",
       "    </tr>\n",
       "    <tr>\n",
       "      <th>1</th>\n",
       "      <td>Design &amp; User Experience</td>\n",
       "      <td>At Booking com data drives our decisions Techn...</td>\n",
       "      <td>[booking, com, data, drive, decision, technolo...</td>\n",
       "      <td>1</td>\n",
       "    </tr>\n",
       "    <tr>\n",
       "      <th>2</th>\n",
       "      <td>Finance</td>\n",
       "      <td>Booking com s global treasury team is looking ...</td>\n",
       "      <td>[booking, com, global, treasury, team, looking...</td>\n",
       "      <td>10</td>\n",
       "    </tr>\n",
       "    <tr>\n",
       "      <th>3</th>\n",
       "      <td>Product</td>\n",
       "      <td>About the company It wasn t so long ago that b...</td>\n",
       "      <td>[company, long, ago, booking, trip, see, eiffe...</td>\n",
       "      <td>5</td>\n",
       "    </tr>\n",
       "    <tr>\n",
       "      <th>4</th>\n",
       "      <td>Business Development &amp; Support</td>\n",
       "      <td>Account Executive Bristol This is a full time ...</td>\n",
       "      <td>[account, executive, bristol, full, time, posi...</td>\n",
       "      <td>3</td>\n",
       "    </tr>\n",
       "    <tr>\n",
       "      <th>...</th>\n",
       "      <td>...</td>\n",
       "      <td>...</td>\n",
       "      <td>...</td>\n",
       "      <td>...</td>\n",
       "    </tr>\n",
       "    <tr>\n",
       "      <th>648</th>\n",
       "      <td>Engineering</td>\n",
       "      <td>It wasn t so long ago that booking a trip so s...</td>\n",
       "      <td>[long, ago, booking, trip, see, eiffel, tower,...</td>\n",
       "      <td>7</td>\n",
       "    </tr>\n",
       "    <tr>\n",
       "      <th>649</th>\n",
       "      <td>Engineering</td>\n",
       "      <td>Senior Front End Developer Who are we At Booki...</td>\n",
       "      <td>[senior, front, end, developer, booking, com, ...</td>\n",
       "      <td>0</td>\n",
       "    </tr>\n",
       "    <tr>\n",
       "      <th>650</th>\n",
       "      <td>Engineering</td>\n",
       "      <td>At Booking com we make it easier for everyone ...</td>\n",
       "      <td>[booking, com, make, easier, everyone, experie...</td>\n",
       "      <td>5</td>\n",
       "    </tr>\n",
       "    <tr>\n",
       "      <th>651</th>\n",
       "      <td>Engineering</td>\n",
       "      <td>Senior Java Developer Who are we At Booking co...</td>\n",
       "      <td>[senior, java, developer, booking, com, make, ...</td>\n",
       "      <td>13</td>\n",
       "    </tr>\n",
       "    <tr>\n",
       "      <th>652</th>\n",
       "      <td>Engineering</td>\n",
       "      <td>At Booking com data drives our decisions Techn...</td>\n",
       "      <td>[booking, com, data, drive, decision, technolo...</td>\n",
       "      <td>7</td>\n",
       "    </tr>\n",
       "  </tbody>\n",
       "</table>\n",
       "<p>649 rows × 4 columns</p>\n",
       "</div>"
      ],
      "text/plain": [
       "                               Team  \\\n",
       "0                       Engineering   \n",
       "1          Design & User Experience   \n",
       "2                           Finance   \n",
       "3                           Product   \n",
       "4    Business Development & Support   \n",
       "..                              ...   \n",
       "648                     Engineering   \n",
       "649                     Engineering   \n",
       "650                     Engineering   \n",
       "651                     Engineering   \n",
       "652                     Engineering   \n",
       "\n",
       "                                       job_description  \\\n",
       "0    Booking com It wasn t so long ago that booking...   \n",
       "1    At Booking com data drives our decisions Techn...   \n",
       "2    Booking com s global treasury team is looking ...   \n",
       "3    About the company It wasn t so long ago that b...   \n",
       "4    Account Executive Bristol This is a full time ...   \n",
       "..                                                 ...   \n",
       "648  It wasn t so long ago that booking a trip so s...   \n",
       "649  Senior Front End Developer Who are we At Booki...   \n",
       "650  At Booking com we make it easier for everyone ...   \n",
       "651  Senior Java Developer Who are we At Booking co...   \n",
       "652  At Booking com data drives our decisions Techn...   \n",
       "\n",
       "                                 Clean_Job_Description  Clusters  \n",
       "0    [booking, com, long, ago, booking, trip, see, ...         1  \n",
       "1    [booking, com, data, drive, decision, technolo...         1  \n",
       "2    [booking, com, global, treasury, team, looking...        10  \n",
       "3    [company, long, ago, booking, trip, see, eiffe...         5  \n",
       "4    [account, executive, bristol, full, time, posi...         3  \n",
       "..                                                 ...       ...  \n",
       "648  [long, ago, booking, trip, see, eiffel, tower,...         7  \n",
       "649  [senior, front, end, developer, booking, com, ...         0  \n",
       "650  [booking, com, make, easier, everyone, experie...         5  \n",
       "651  [senior, java, developer, booking, com, make, ...        13  \n",
       "652  [booking, com, data, drive, decision, technolo...         7  \n",
       "\n",
       "[649 rows x 4 columns]"
      ]
     },
     "execution_count": 50,
     "metadata": {},
     "output_type": "execute_result"
    }
   ],
   "source": [
    "df"
   ]
  },
  {
   "cell_type": "code",
   "execution_count": 51,
   "id": "041223a4",
   "metadata": {},
   "outputs": [
    {
     "data": {
      "text/plain": [
       "array([[-0.01990486,  0.12153843, -0.04100456, ..., -0.2153608 ,\n",
       "         0.09002744,  0.10585674],\n",
       "       [ 0.01778905,  0.23997572, -0.00582289, ..., -0.34192884,\n",
       "         0.26762563,  0.11278909],\n",
       "       [-0.08791228, -0.01805268, -0.34554014, ..., -0.0686557 ,\n",
       "         0.08057027,  0.08019893],\n",
       "       ...,\n",
       "       [ 0.00332188,  0.11448418, -0.38360703, ..., -0.14248732,\n",
       "         0.13980605,  0.03144486],\n",
       "       [-0.03268742,  0.11462952, -0.162871  , ..., -0.24288788,\n",
       "         0.08771317,  0.09440107],\n",
       "       [-0.11649451, -0.01852562, -0.18870679, ..., -0.12194111,\n",
       "         0.06063394,  0.12223187]], dtype=float32)"
      ]
     },
     "execution_count": 51,
     "metadata": {},
     "output_type": "execute_result"
    }
   ],
   "source": [
    "kmeans_model_word2vec.cluster_centers_"
   ]
  },
  {
   "cell_type": "code",
   "execution_count": 52,
   "id": "54f38abc",
   "metadata": {},
   "outputs": [],
   "source": [
    "# To Fetch Data From Diffrent Clusters "
   ]
  },
  {
   "cell_type": "code",
   "execution_count": 53,
   "id": "c6d37442",
   "metadata": {},
   "outputs": [],
   "source": [
    "text_13_class = df.groupby('Clusters').get_group(13).job_description.str.cat(sep =' ') "
   ]
  },
  {
   "cell_type": "code",
   "execution_count": 54,
   "id": "87e9780e",
   "metadata": {},
   "outputs": [],
   "source": [
    "text_12_class = df.groupby('Clusters').get_group(12).job_description.str.cat(sep =' ')"
   ]
  },
  {
   "cell_type": "code",
   "execution_count": 55,
   "id": "2a05f272",
   "metadata": {},
   "outputs": [],
   "source": [
    "text_11_class = df.groupby('Clusters').get_group(11).job_description.str.cat(sep =' ')"
   ]
  },
  {
   "cell_type": "code",
   "execution_count": 56,
   "id": "c20a9128",
   "metadata": {},
   "outputs": [],
   "source": [
    "text_10_class = df.groupby('Clusters').get_group(10).job_description.str.cat(sep =' ')"
   ]
  },
  {
   "cell_type": "code",
   "execution_count": 57,
   "id": "b229fc39",
   "metadata": {},
   "outputs": [],
   "source": [
    "text_9_class = df.groupby('Clusters').get_group(9).job_description.str.cat(sep =' ')"
   ]
  },
  {
   "cell_type": "code",
   "execution_count": 58,
   "id": "bb2615f2",
   "metadata": {},
   "outputs": [],
   "source": [
    "text_8_class = df.groupby('Clusters').get_group(8).job_description.str.cat(sep =' ')"
   ]
  },
  {
   "cell_type": "code",
   "execution_count": 59,
   "id": "3663d9d7",
   "metadata": {},
   "outputs": [],
   "source": [
    "text_7_class = df.groupby('Clusters').get_group(7).job_description.str.cat(sep =' ')"
   ]
  },
  {
   "cell_type": "code",
   "execution_count": 60,
   "id": "4fe0d2dc",
   "metadata": {},
   "outputs": [],
   "source": [
    "text_6_class = df.groupby('Clusters').get_group(6).job_description.str.cat(sep =' ')"
   ]
  },
  {
   "cell_type": "code",
   "execution_count": 61,
   "id": "2e42d9f4",
   "metadata": {},
   "outputs": [],
   "source": [
    "text_5_class = df.groupby('Clusters').get_group(5).job_description.str.cat(sep =' ')"
   ]
  },
  {
   "cell_type": "code",
   "execution_count": 62,
   "id": "38c0c673",
   "metadata": {},
   "outputs": [],
   "source": [
    "text_4_class = df.groupby('Clusters').get_group(4).job_description.str.cat(sep =' ')"
   ]
  },
  {
   "cell_type": "code",
   "execution_count": 63,
   "id": "d1eabb22",
   "metadata": {},
   "outputs": [],
   "source": [
    "text_3_class = df.groupby('Clusters').get_group(3).job_description.str.cat(sep =' ')"
   ]
  },
  {
   "cell_type": "code",
   "execution_count": 64,
   "id": "27cce86e",
   "metadata": {},
   "outputs": [],
   "source": [
    "text_2_class = df.groupby('Clusters').get_group(2).job_description.str.cat(sep =' ')"
   ]
  },
  {
   "cell_type": "code",
   "execution_count": 65,
   "id": "650020d3",
   "metadata": {},
   "outputs": [],
   "source": [
    "text_1_class = df.groupby('Clusters').get_group(1).job_description.str.cat(sep =' ')"
   ]
  },
  {
   "cell_type": "code",
   "execution_count": 66,
   "id": "a5f7ee90",
   "metadata": {},
   "outputs": [],
   "source": [
    "text_0_class = df.groupby('Clusters').get_group(0).job_description.str.cat(sep =' ')"
   ]
  },
  {
   "cell_type": "code",
   "execution_count": 67,
   "id": "a7071a42",
   "metadata": {},
   "outputs": [],
   "source": [
    "# Key Phrase Extractor\n",
    "import yake \n",
    "def yake_extractor(data):\n",
    "    keyword_extractor = yake.KeywordExtractor()\n",
    "    keywords = keyword_extractor.extract_keywords(data)\n",
    "    keyword_list = []\n",
    "    for kw in keywords: \n",
    "        keyword_list.append(kw[0])\n",
    "        \n",
    "    return keyword_list\n"
   ]
  },
  {
   "cell_type": "code",
   "execution_count": 68,
   "id": "69c459f2",
   "metadata": {},
   "outputs": [],
   "source": [
    "text_of_classes =[text_0_class ,text_1_class ,text_2_class ,text_3_class ,text_4_class ,text_5_class ,\n",
    "                 text_6_class ,text_7_class ,text_8_class , text_9_class ,text_10_class ,text_11_class ,\n",
    "                  text_12_class,text_13_class]"
   ]
  },
  {
   "cell_type": "code",
   "execution_count": 69,
   "id": "b6aad69a",
   "metadata": {},
   "outputs": [
    {
     "data": {
      "text/plain": [
       "{'class0': ['Technology Product Manager',\n",
       "  'booking teams products',\n",
       "  'product team Booking',\n",
       "  'End Developer Booking',\n",
       "  'Customer Service Center',\n",
       "  'product development teams',\n",
       "  'Service Center Shanghai',\n",
       "  'Booking Deal including',\n",
       "  'Product Manager Booking',\n",
       "  'Flights Apps Team',\n",
       "  'end customer experience',\n",
       "  'Software Development Experience',\n",
       "  'end developers product',\n",
       "  'App Experience working',\n",
       "  'iOS Developer Booking',\n",
       "  'developers product owners',\n",
       "  'improve customer experience',\n",
       "  'Booking Data services',\n",
       "  'Android development experience',\n",
       "  'Flights product experience'],\n",
       " 'class1': ['Strong working knowledge',\n",
       "  'Machine Learning Scientist',\n",
       "  'Booking Deal including',\n",
       "  'machine learning products',\n",
       "  'Python Strong working',\n",
       "  'Europe Amsterdam Performance',\n",
       "  'engineering solutions Technical',\n",
       "  'machine learning models',\n",
       "  'data machine learning',\n",
       "  'work experience Masters',\n",
       "  'equal opportunity workplace',\n",
       "  'relevant work experience',\n",
       "  'traditional equal opportunity',\n",
       "  'software development Experience',\n",
       "  'experience Machine learning',\n",
       "  'product requirements data',\n",
       "  'Computer Science Mathematics',\n",
       "  'Strong working experience',\n",
       "  'world renowned product',\n",
       "  'data management data'],\n",
       " 'class2': ['Digital Partner Experience',\n",
       "  'Senior Project Manager',\n",
       "  'Senior Program Manager',\n",
       "  'Strong project management',\n",
       "  'Project management skills',\n",
       "  'Partner Experience Insights',\n",
       "  'Partner Communications teams',\n",
       "  'Teams Partner Communications',\n",
       "  'Partner Experience team',\n",
       "  'skills Strong work',\n",
       "  'Communications Partner Communications',\n",
       "  'Experience Insights Manager',\n",
       "  'Program Manager ensures',\n",
       "  'project management experience',\n",
       "  'Business Operations team',\n",
       "  'Global Partner Services',\n",
       "  'Partner Services teams',\n",
       "  'Change management experience',\n",
       "  'management skills experience',\n",
       "  'project change management'],\n",
       " 'class3': ['Account Manager Booking',\n",
       "  'hotel markets Booking',\n",
       "  'outcome Representing Booking',\n",
       "  'iconic Madison Avenue',\n",
       "  'Eiffel Tower stroll',\n",
       "  'time Account Manager',\n",
       "  'Senior Account Manager',\n",
       "  'competitive benefits Booking',\n",
       "  'Accurate strong analytical',\n",
       "  'Partners Identify opportunities',\n",
       "  'performance based company',\n",
       "  'independently Accurate strong',\n",
       "  'function Fluent English',\n",
       "  'travel industry Pro',\n",
       "  'Positive attitude Hotel',\n",
       "  'attitude Hotel School',\n",
       "  'internal business portfolio',\n",
       "  'coverage Support Booking',\n",
       "  'relevant account management',\n",
       "  'business performance market'],\n",
       " 'class4': ['Customer Relations Advisor',\n",
       "  'Learn Forever Succeed',\n",
       "  'Wellbeing focus Mental',\n",
       "  'Perkbox Competitive maternity',\n",
       "  'Managing customers insurance',\n",
       "  'Customer Sales Advisor',\n",
       "  'support Customer Relations',\n",
       "  'Generous accommodation discount',\n",
       "  'exploring Generous accommodation',\n",
       "  'Relations Advisor Insurance',\n",
       "  'Flexible working including',\n",
       "  'provided Managing customer',\n",
       "  'suppliers Investigating customer',\n",
       "  'customer Insurance experience',\n",
       "  'leave Flexible working',\n",
       "  'Investigating customer queries',\n",
       "  'Trip ambition Booking',\n",
       "  'home Wellbeing focus',\n",
       "  'company contribution Huge',\n",
       "  'love helping people'],\n",
       " 'class5': ['Business Partner roles',\n",
       "  'business partners Ensure',\n",
       "  'Senior Product Manager',\n",
       "  'Trips Business Unit',\n",
       "  'Booking Holdings NASDAQ',\n",
       "  'Partner Business Management',\n",
       "  'Technology Architecture Product',\n",
       "  'revenue Booking Holdings',\n",
       "  'People Function Leadership',\n",
       "  'people management Experience',\n",
       "  'organisation Business Partner',\n",
       "  'Senior leadership experience',\n",
       "  'Responsible People Function',\n",
       "  'Partner Business Managers',\n",
       "  'Connectivity Partnerships Team',\n",
       "  'Architecture Product Strategy',\n",
       "  'Technical Product Manager',\n",
       "  'experience Demonstrable experience',\n",
       "  'Product leadership experience',\n",
       "  'Senior Business Partner'],\n",
       " 'class6': ['software development experience',\n",
       "  'Developer Experience Booking',\n",
       "  'Developer Experience teams',\n",
       "  'Booking Deal including',\n",
       "  'skilled Solid experience',\n",
       "  'build today Booking',\n",
       "  'development experience Experience',\n",
       "  'Perl Java Python',\n",
       "  'engineering solutions Technical',\n",
       "  'objectives Additional experience',\n",
       "  'Booking SRE lies',\n",
       "  'Java Python Perl',\n",
       "  'experience Java Python',\n",
       "  'Preferably Perl Java',\n",
       "  'Java Demonstrable experience',\n",
       "  'Python Perl Experience',\n",
       "  'product development teams',\n",
       "  'Senior Developer Experience',\n",
       "  'Developer Experience part',\n",
       "  'App Experience working'],\n",
       " 'class7': ['Booking Deal including',\n",
       "  'world renowned product',\n",
       "  'build today Booking',\n",
       "  'Technology Product Manager',\n",
       "  'Europe Amsterdam Performance',\n",
       "  'Technical Product Manager',\n",
       "  'Senior Product Manager',\n",
       "  'product management experience',\n",
       "  'management experience Experience',\n",
       "  'equal opportunity workplace',\n",
       "  'product managers product',\n",
       "  'Product Marketing Manager',\n",
       "  'engineering solutions Technical',\n",
       "  'Manager Privacy Booking',\n",
       "  'grow Represent Booking',\n",
       "  'traditional equal opportunity',\n",
       "  'Technical Program Manager',\n",
       "  'products Experience working',\n",
       "  'seamless booking experience',\n",
       "  'experience Experience working'],\n",
       " 'class8': ['Booking Holdings NASDAQ',\n",
       "  'BKNG Booking Holdings',\n",
       "  'Booking Holdings brands',\n",
       "  'law Booking Holdings',\n",
       "  'Booking Holdings total',\n",
       "  'role Booking Holdings',\n",
       "  'Booking Holdings Bangalore',\n",
       "  'Legal Public Affairs',\n",
       "  'Booking Holdings Amsterdam',\n",
       "  'revenue Booking Holdings',\n",
       "  'Booking Holdings Romania',\n",
       "  'Public Affairs team',\n",
       "  'Booking Holdings Group',\n",
       "  'employment Booking Holdings',\n",
       "  'India Booking Holdings',\n",
       "  'Booking Holdings legal',\n",
       "  'Holdings NASDAQ BKNG',\n",
       "  'Booking Holdings',\n",
       "  'Statement Booking Holdings',\n",
       "  'Booking Holdings COE'],\n",
       " 'class9': ['hotel markets Booking',\n",
       "  'outcome Representing Booking',\n",
       "  'Senior Account Manager',\n",
       "  'responsible Support Booking',\n",
       "  'time Account Manager',\n",
       "  'function Fluent English',\n",
       "  'Manager Partnerships Booking',\n",
       "  'competitive benefits Booking',\n",
       "  'Positive attitude Hotel',\n",
       "  'Partner Services team',\n",
       "  'Account Managers Hotels',\n",
       "  'Booking Home Partners',\n",
       "  'attitude Hotel School',\n",
       "  'Account Managers provide',\n",
       "  'Accurate strong analytical',\n",
       "  'Account Manager Partnerships',\n",
       "  'Sydney office Booking',\n",
       "  'relevant account management',\n",
       "  'account management function',\n",
       "  'Melbourne office Booking'],\n",
       " 'class10': ['Booking Holdings Booking',\n",
       "  'strong analytical skills',\n",
       "  'Strong computer skills',\n",
       "  'Excellent communication skills',\n",
       "  'English language Booking',\n",
       "  'marketing content language',\n",
       "  'team Strong knowledge',\n",
       "  'Language Specialist Booking',\n",
       "  'Strong communication skills',\n",
       "  'strong customer focus',\n",
       "  'skills strong analytical',\n",
       "  'Booking Holdings products',\n",
       "  'team Strong team',\n",
       "  'management skills Ability',\n",
       "  'content marketing managers',\n",
       "  'company Booking Holdings',\n",
       "  'content language based',\n",
       "  'Strong working knowledge',\n",
       "  'systems Excellent ability',\n",
       "  'skills Strong work'],\n",
       " 'class11': ['Senior Recruiter Team',\n",
       "  'Recruiter Team Lead',\n",
       "  'Senior Program Manager',\n",
       "  'Talent Acquisition team',\n",
       "  'Lead hiring managers',\n",
       "  'Senior Change Manager',\n",
       "  'Manager Team Lead',\n",
       "  'strong stakeholder management',\n",
       "  'senior executive recruiter',\n",
       "  'Team Lead hiring',\n",
       "  'senior hiring experience',\n",
       "  'management demonstrated ability',\n",
       "  'candidate experience end',\n",
       "  'operational recruiting experience',\n",
       "  'analytical skills ability',\n",
       "  'Strong track record',\n",
       "  'Key Responsibilities Manage',\n",
       "  'Senior Project Manager',\n",
       "  'Experience Lead Talent',\n",
       "  'Leads Experience Knowledge'],\n",
       " 'class12': ['engineering solutions Technical',\n",
       "  'Senior Design Manager',\n",
       "  'Senior Engineering Manager',\n",
       "  'Product Manager Booking',\n",
       "  'Strong people management',\n",
       "  'experience strong business',\n",
       "  'Architecture Product Strategy',\n",
       "  'experience Experience working',\n",
       "  'experience Strong experience',\n",
       "  'teams Strong experience',\n",
       "  'management experience strong',\n",
       "  'Booking Design System',\n",
       "  'Manager Booking Design',\n",
       "  'Technology Craft Delivery',\n",
       "  'products Experience working',\n",
       "  'skills Strong work',\n",
       "  'platform engineering experience',\n",
       "  'user experience design',\n",
       "  'Product Strategy Thought',\n",
       "  'Design Experience Strategy'],\n",
       " 'class13': ['Continuous Integration Continuous',\n",
       "  'Integration Continuous Delivery',\n",
       "  'great customer experience',\n",
       "  'BDD Good understanding',\n",
       "  'team Great engineering',\n",
       "  'Senior Data Engineer',\n",
       "  'systems Good understanding',\n",
       "  'team Software development',\n",
       "  'XML Good understanding',\n",
       "  'skills Good understanding',\n",
       "  'Development Service Development',\n",
       "  'functional agile teams',\n",
       "  'Support experience Experience',\n",
       "  'high quality solutions',\n",
       "  'quality solutions Design',\n",
       "  'Java Good understanding',\n",
       "  'Great engineering practices',\n",
       "  'Data Product Manager',\n",
       "  'data machine learning',\n",
       "  'Specialist People Systems']}"
      ]
     },
     "execution_count": 69,
     "metadata": {},
     "output_type": "execute_result"
    }
   ],
   "source": [
    "dict_of_key_phrases =dict() # Blank Dictionary\n",
    "for index , text in enumerate (text_of_classes):#To fetch data from every cluster assign index as key and keyphrases as value\n",
    "    dict_of_key_phrases['class{}'.format(index)] = yake_extractor(text)\n",
    "dict_of_key_phrases"
   ]
  },
  {
   "cell_type": "code",
   "execution_count": 70,
   "id": "f2de7901",
   "metadata": {},
   "outputs": [],
   "source": [
    "list_of_key =['Business Development & Support' ,'Data Science & Analytics' ,'Customer Service '\n",
    "'Finance & Legal' ,'Product' ,'Leadership','Design & User Experience ','Engineering ','Marketing & Communications' ,\n",
    "'IT Services' ,'Finance' ,'Security & Infrastructure','Legal & Public Affairs' ,'People'  ]\n",
    "# to create Value of Key for diffrent cluster i used domain knowledge to assign key for specific cluster"
   ]
  },
  {
   "cell_type": "code",
   "execution_count": 71,
   "id": "3e37769a",
   "metadata": {},
   "outputs": [
    {
     "name": "stdout",
     "output_type": "stream",
     "text": [
      "{'Business Development & Support': ['Technology Product Manager', 'booking teams products', 'product team Booking', 'End Developer Booking', 'Customer Service Center', 'product development teams', 'Service Center Shanghai', 'Booking Deal including', 'Product Manager Booking', 'Flights Apps Team', 'end customer experience', 'Software Development Experience', 'end developers product', 'App Experience working', 'iOS Developer Booking', 'developers product owners', 'improve customer experience', 'Booking Data services', 'Android development experience', 'Flights product experience'], 'Data Science & Analytics': ['Strong working knowledge', 'Machine Learning Scientist', 'Booking Deal including', 'machine learning products', 'Python Strong working', 'Europe Amsterdam Performance', 'engineering solutions Technical', 'machine learning models', 'data machine learning', 'work experience Masters', 'equal opportunity workplace', 'relevant work experience', 'traditional equal opportunity', 'software development Experience', 'experience Machine learning', 'product requirements data', 'Computer Science Mathematics', 'Strong working experience', 'world renowned product', 'data management data'], 'Customer Service Finance & Legal': ['Digital Partner Experience', 'Senior Project Manager', 'Senior Program Manager', 'Strong project management', 'Project management skills', 'Partner Experience Insights', 'Partner Communications teams', 'Teams Partner Communications', 'Partner Experience team', 'skills Strong work', 'Communications Partner Communications', 'Experience Insights Manager', 'Program Manager ensures', 'project management experience', 'Business Operations team', 'Global Partner Services', 'Partner Services teams', 'Change management experience', 'management skills experience', 'project change management'], 'Product': ['Account Manager Booking', 'hotel markets Booking', 'outcome Representing Booking', 'iconic Madison Avenue', 'Eiffel Tower stroll', 'time Account Manager', 'Senior Account Manager', 'competitive benefits Booking', 'Accurate strong analytical', 'Partners Identify opportunities', 'performance based company', 'independently Accurate strong', 'function Fluent English', 'travel industry Pro', 'Positive attitude Hotel', 'attitude Hotel School', 'internal business portfolio', 'coverage Support Booking', 'relevant account management', 'business performance market'], 'Leadership': ['Customer Relations Advisor', 'Learn Forever Succeed', 'Wellbeing focus Mental', 'Perkbox Competitive maternity', 'Managing customers insurance', 'Customer Sales Advisor', 'support Customer Relations', 'Generous accommodation discount', 'exploring Generous accommodation', 'Relations Advisor Insurance', 'Flexible working including', 'provided Managing customer', 'suppliers Investigating customer', 'customer Insurance experience', 'leave Flexible working', 'Investigating customer queries', 'Trip ambition Booking', 'home Wellbeing focus', 'company contribution Huge', 'love helping people'], 'Design & User Experience ': ['Business Partner roles', 'business partners Ensure', 'Senior Product Manager', 'Trips Business Unit', 'Booking Holdings NASDAQ', 'Partner Business Management', 'Technology Architecture Product', 'revenue Booking Holdings', 'People Function Leadership', 'people management Experience', 'organisation Business Partner', 'Senior leadership experience', 'Responsible People Function', 'Partner Business Managers', 'Connectivity Partnerships Team', 'Architecture Product Strategy', 'Technical Product Manager', 'experience Demonstrable experience', 'Product leadership experience', 'Senior Business Partner'], 'Engineering ': ['software development experience', 'Developer Experience Booking', 'Developer Experience teams', 'Booking Deal including', 'skilled Solid experience', 'build today Booking', 'development experience Experience', 'Perl Java Python', 'engineering solutions Technical', 'objectives Additional experience', 'Booking SRE lies', 'Java Python Perl', 'experience Java Python', 'Preferably Perl Java', 'Java Demonstrable experience', 'Python Perl Experience', 'product development teams', 'Senior Developer Experience', 'Developer Experience part', 'App Experience working'], 'Marketing & Communications': ['Booking Deal including', 'world renowned product', 'build today Booking', 'Technology Product Manager', 'Europe Amsterdam Performance', 'Technical Product Manager', 'Senior Product Manager', 'product management experience', 'management experience Experience', 'equal opportunity workplace', 'product managers product', 'Product Marketing Manager', 'engineering solutions Technical', 'Manager Privacy Booking', 'grow Represent Booking', 'traditional equal opportunity', 'Technical Program Manager', 'products Experience working', 'seamless booking experience', 'experience Experience working'], 'IT Services': ['Booking Holdings NASDAQ', 'BKNG Booking Holdings', 'Booking Holdings brands', 'law Booking Holdings', 'Booking Holdings total', 'role Booking Holdings', 'Booking Holdings Bangalore', 'Legal Public Affairs', 'Booking Holdings Amsterdam', 'revenue Booking Holdings', 'Booking Holdings Romania', 'Public Affairs team', 'Booking Holdings Group', 'employment Booking Holdings', 'India Booking Holdings', 'Booking Holdings legal', 'Holdings NASDAQ BKNG', 'Booking Holdings', 'Statement Booking Holdings', 'Booking Holdings COE'], 'Finance': ['hotel markets Booking', 'outcome Representing Booking', 'Senior Account Manager', 'responsible Support Booking', 'time Account Manager', 'function Fluent English', 'Manager Partnerships Booking', 'competitive benefits Booking', 'Positive attitude Hotel', 'Partner Services team', 'Account Managers Hotels', 'Booking Home Partners', 'attitude Hotel School', 'Account Managers provide', 'Accurate strong analytical', 'Account Manager Partnerships', 'Sydney office Booking', 'relevant account management', 'account management function', 'Melbourne office Booking'], 'Security & Infrastructure': ['Booking Holdings Booking', 'strong analytical skills', 'Strong computer skills', 'Excellent communication skills', 'English language Booking', 'marketing content language', 'team Strong knowledge', 'Language Specialist Booking', 'Strong communication skills', 'strong customer focus', 'skills strong analytical', 'Booking Holdings products', 'team Strong team', 'management skills Ability', 'content marketing managers', 'company Booking Holdings', 'content language based', 'Strong working knowledge', 'systems Excellent ability', 'skills Strong work'], 'Legal & Public Affairs': ['Senior Recruiter Team', 'Recruiter Team Lead', 'Senior Program Manager', 'Talent Acquisition team', 'Lead hiring managers', 'Senior Change Manager', 'Manager Team Lead', 'strong stakeholder management', 'senior executive recruiter', 'Team Lead hiring', 'senior hiring experience', 'management demonstrated ability', 'candidate experience end', 'operational recruiting experience', 'analytical skills ability', 'Strong track record', 'Key Responsibilities Manage', 'Senior Project Manager', 'Experience Lead Talent', 'Leads Experience Knowledge'], 'People': ['engineering solutions Technical', 'Senior Design Manager', 'Senior Engineering Manager', 'Product Manager Booking', 'Strong people management', 'experience strong business', 'Architecture Product Strategy', 'experience Experience working', 'experience Strong experience', 'teams Strong experience', 'management experience strong', 'Booking Design System', 'Manager Booking Design', 'Technology Craft Delivery', 'products Experience working', 'skills Strong work', 'platform engineering experience', 'user experience design', 'Product Strategy Thought', 'Design Experience Strategy']} "
     ]
    }
   ],
   "source": [
    "# Assign Key to Diffrent Cluster using zip function\n",
    "\n",
    "key_phrases_clusterwise = dict(zip(list_of_key ,dict_of_key_phrases.values()))\n",
    "print(key_phrases_clusterwise , end =' ')"
   ]
  },
  {
   "cell_type": "markdown",
   "id": "415509cd",
   "metadata": {},
   "source": [
    "# Split data into Train Test Split"
   ]
  },
  {
   "cell_type": "code",
   "execution_count": 72,
   "id": "c4d6af38",
   "metadata": {},
   "outputs": [],
   "source": [
    "x =word2_vec([ word for word in df['Clean_Job_Description']],model)\n",
    "y = df['Clusters']"
   ]
  },
  {
   "cell_type": "code",
   "execution_count": 73,
   "id": "813fd042",
   "metadata": {},
   "outputs": [],
   "source": [
    "x_train ,x_test, y_train ,y_test  = train_test_split(x,y , train_size=0.8 , random_state=1)\n"
   ]
  },
  {
   "cell_type": "markdown",
   "id": "8a6f556d",
   "metadata": {},
   "source": [
    "# Model Building"
   ]
  },
  {
   "cell_type": "code",
   "execution_count": 74,
   "id": "61de0a27",
   "metadata": {},
   "outputs": [
    {
     "data": {
      "text/html": [
       "<style>#sk-container-id-1 {color: black;background-color: white;}#sk-container-id-1 pre{padding: 0;}#sk-container-id-1 div.sk-toggleable {background-color: white;}#sk-container-id-1 label.sk-toggleable__label {cursor: pointer;display: block;width: 100%;margin-bottom: 0;padding: 0.3em;box-sizing: border-box;text-align: center;}#sk-container-id-1 label.sk-toggleable__label-arrow:before {content: \"▸\";float: left;margin-right: 0.25em;color: #696969;}#sk-container-id-1 label.sk-toggleable__label-arrow:hover:before {color: black;}#sk-container-id-1 div.sk-estimator:hover label.sk-toggleable__label-arrow:before {color: black;}#sk-container-id-1 div.sk-toggleable__content {max-height: 0;max-width: 0;overflow: hidden;text-align: left;background-color: #f0f8ff;}#sk-container-id-1 div.sk-toggleable__content pre {margin: 0.2em;color: black;border-radius: 0.25em;background-color: #f0f8ff;}#sk-container-id-1 input.sk-toggleable__control:checked~div.sk-toggleable__content {max-height: 200px;max-width: 100%;overflow: auto;}#sk-container-id-1 input.sk-toggleable__control:checked~label.sk-toggleable__label-arrow:before {content: \"▾\";}#sk-container-id-1 div.sk-estimator input.sk-toggleable__control:checked~label.sk-toggleable__label {background-color: #d4ebff;}#sk-container-id-1 div.sk-label input.sk-toggleable__control:checked~label.sk-toggleable__label {background-color: #d4ebff;}#sk-container-id-1 input.sk-hidden--visually {border: 0;clip: rect(1px 1px 1px 1px);clip: rect(1px, 1px, 1px, 1px);height: 1px;margin: -1px;overflow: hidden;padding: 0;position: absolute;width: 1px;}#sk-container-id-1 div.sk-estimator {font-family: monospace;background-color: #f0f8ff;border: 1px dotted black;border-radius: 0.25em;box-sizing: border-box;margin-bottom: 0.5em;}#sk-container-id-1 div.sk-estimator:hover {background-color: #d4ebff;}#sk-container-id-1 div.sk-parallel-item::after {content: \"\";width: 100%;border-bottom: 1px solid gray;flex-grow: 1;}#sk-container-id-1 div.sk-label:hover label.sk-toggleable__label {background-color: #d4ebff;}#sk-container-id-1 div.sk-serial::before {content: \"\";position: absolute;border-left: 1px solid gray;box-sizing: border-box;top: 0;bottom: 0;left: 50%;z-index: 0;}#sk-container-id-1 div.sk-serial {display: flex;flex-direction: column;align-items: center;background-color: white;padding-right: 0.2em;padding-left: 0.2em;position: relative;}#sk-container-id-1 div.sk-item {position: relative;z-index: 1;}#sk-container-id-1 div.sk-parallel {display: flex;align-items: stretch;justify-content: center;background-color: white;position: relative;}#sk-container-id-1 div.sk-item::before, #sk-container-id-1 div.sk-parallel-item::before {content: \"\";position: absolute;border-left: 1px solid gray;box-sizing: border-box;top: 0;bottom: 0;left: 50%;z-index: -1;}#sk-container-id-1 div.sk-parallel-item {display: flex;flex-direction: column;z-index: 1;position: relative;background-color: white;}#sk-container-id-1 div.sk-parallel-item:first-child::after {align-self: flex-end;width: 50%;}#sk-container-id-1 div.sk-parallel-item:last-child::after {align-self: flex-start;width: 50%;}#sk-container-id-1 div.sk-parallel-item:only-child::after {width: 0;}#sk-container-id-1 div.sk-dashed-wrapped {border: 1px dashed gray;margin: 0 0.4em 0.5em 0.4em;box-sizing: border-box;padding-bottom: 0.4em;background-color: white;}#sk-container-id-1 div.sk-label label {font-family: monospace;font-weight: bold;display: inline-block;line-height: 1.2em;}#sk-container-id-1 div.sk-label-container {text-align: center;}#sk-container-id-1 div.sk-container {/* jupyter's `normalize.less` sets `[hidden] { display: none; }` but bootstrap.min.css set `[hidden] { display: none !important; }` so we also need the `!important` here to be able to override the default hidden behavior on the sphinx rendered scikit-learn.org. See: https://github.com/scikit-learn/scikit-learn/issues/21755 */display: inline-block !important;position: relative;}#sk-container-id-1 div.sk-text-repr-fallback {display: none;}</style><div id=\"sk-container-id-1\" class=\"sk-top-container\"><div class=\"sk-text-repr-fallback\"><pre>SVC()</pre><b>In a Jupyter environment, please rerun this cell to show the HTML representation or trust the notebook. <br />On GitHub, the HTML representation is unable to render, please try loading this page with nbviewer.org.</b></div><div class=\"sk-container\" hidden><div class=\"sk-item\"><div class=\"sk-estimator sk-toggleable\"><input class=\"sk-toggleable__control sk-hidden--visually\" id=\"sk-estimator-id-1\" type=\"checkbox\" checked><label for=\"sk-estimator-id-1\" class=\"sk-toggleable__label sk-toggleable__label-arrow\">SVC</label><div class=\"sk-toggleable__content\"><pre>SVC()</pre></div></div></div></div></div>"
      ],
      "text/plain": [
       "SVC()"
      ]
     },
     "execution_count": 74,
     "metadata": {},
     "output_type": "execute_result"
    }
   ],
   "source": [
    "from sklearn.svm import SVC\n",
    "model_svc = SVC()\n",
    "model_svc .fit(x_train , y_train)\n"
   ]
  },
  {
   "cell_type": "code",
   "execution_count": 75,
   "id": "c59e9213",
   "metadata": {},
   "outputs": [
    {
     "data": {
      "text/plain": [
       "array([ 0,  8,  2, 13,  2])"
      ]
     },
     "execution_count": 75,
     "metadata": {},
     "output_type": "execute_result"
    }
   ],
   "source": [
    "y_pred = model_svc.predict(x_test)\n",
    "y_pred[:5]"
   ]
  },
  {
   "cell_type": "markdown",
   "id": "9d4b3f36",
   "metadata": {},
   "source": [
    "# Model Evaluation"
   ]
  },
  {
   "cell_type": "code",
   "execution_count": 76,
   "id": "dd79d9b9",
   "metadata": {},
   "outputs": [],
   "source": [
    "from sklearn.metrics import classification_report ,accuracy_score , confusion_matrix"
   ]
  },
  {
   "cell_type": "code",
   "execution_count": 77,
   "id": "4a61135c",
   "metadata": {},
   "outputs": [],
   "source": [
    "def model_evaluation(y_act , y_pred):\n",
    "    \n",
    "    print(f\"Classification report : \\n {classification_report(y_act , y_pred)}\")\n",
    "    print('*'*25)\n",
    "    print(f\"Accuracy score of Model : \\n{accuracy_score(y_act , y_pred)}\")\n",
    "    print('*'*25)\n",
    "    print(f\"Confusion Metric For Model : \\n{confusion_matrix(y_act , y_pred)}\")"
   ]
  },
  {
   "cell_type": "code",
   "execution_count": 78,
   "id": "19a36ef7",
   "metadata": {},
   "outputs": [
    {
     "name": "stdout",
     "output_type": "stream",
     "text": [
      "Classification report : \n",
      "               precision    recall  f1-score   support\n",
      "\n",
      "           0       0.89      1.00      0.94         8\n",
      "           1       0.88      0.88      0.88         8\n",
      "           2       0.93      1.00      0.97        14\n",
      "           3       1.00      1.00      1.00        11\n",
      "           4       1.00      1.00      1.00         4\n",
      "           5       1.00      0.60      0.75         5\n",
      "           6       0.92      1.00      0.96        12\n",
      "           7       1.00      1.00      1.00        13\n",
      "           8       1.00      0.89      0.94         9\n",
      "           9       1.00      1.00      1.00         5\n",
      "          10       0.83      0.83      0.83         6\n",
      "          11       1.00      0.62      0.77         8\n",
      "          12       0.74      0.93      0.82        15\n",
      "          13       0.91      0.83      0.87        12\n",
      "\n",
      "    accuracy                           0.92       130\n",
      "   macro avg       0.94      0.90      0.91       130\n",
      "weighted avg       0.92      0.92      0.91       130\n",
      "\n",
      "*************************\n",
      "Accuracy score of Model : \n",
      "0.9153846153846154\n",
      "*************************\n",
      "Confusion Metric For Model : \n",
      "[[ 8  0  0  0  0  0  0  0  0  0  0  0  0  0]\n",
      " [ 0  7  0  0  0  0  1  0  0  0  0  0  0  0]\n",
      " [ 0  0 14  0  0  0  0  0  0  0  0  0  0  0]\n",
      " [ 0  0  0 11  0  0  0  0  0  0  0  0  0  0]\n",
      " [ 0  0  0  0  4  0  0  0  0  0  0  0  0  0]\n",
      " [ 0  0  0  0  0  3  0  0  0  0  0  0  2  0]\n",
      " [ 0  0  0  0  0  0 12  0  0  0  0  0  0  0]\n",
      " [ 0  0  0  0  0  0  0 13  0  0  0  0  0  0]\n",
      " [ 0  0  0  0  0  0  0  0  8  0  0  0  1  0]\n",
      " [ 0  0  0  0  0  0  0  0  0  5  0  0  0  0]\n",
      " [ 0  0  0  0  0  0  0  0  0  0  5  0  0  1]\n",
      " [ 0  0  1  0  0  0  0  0  0  0  1  5  1  0]\n",
      " [ 0  1  0  0  0  0  0  0  0  0  0  0 14  0]\n",
      " [ 1  0  0  0  0  0  0  0  0  0  0  0  1 10]]\n"
     ]
    }
   ],
   "source": [
    "model_evaluation(y_test , y_pred)"
   ]
  },
  {
   "cell_type": "code",
   "execution_count": 79,
   "id": "d91191d0",
   "metadata": {},
   "outputs": [],
   "source": [
    "from sklearn.model_selection import RandomizedSearchCV"
   ]
  },
  {
   "cell_type": "code",
   "execution_count": 80,
   "id": "541c113a",
   "metadata": {},
   "outputs": [],
   "source": [
    "hyp_model = SVC()\n",
    "hyp = {\n",
    "    \"C\" : np.arange(1,11),\n",
    "    'kernel': ['linear','poly','rbf', 'sigmoid']\n",
    "}\n",
    "rscv = RandomizedSearchCV(hyp_model, hyp, cv = 5)\n",
    "rscv.fit(x_train, y_train)\n",
    "svc_hyp =rscv.best_estimator_"
   ]
  },
  {
   "cell_type": "code",
   "execution_count": 81,
   "id": "680b1e93",
   "metadata": {},
   "outputs": [],
   "source": [
    "with open('svc_hyp.pkl' , 'wb') as file:\n",
    "    pickle.dump(model_svc , file)"
   ]
  },
  {
   "cell_type": "code",
   "execution_count": 82,
   "id": "2911d31b",
   "metadata": {},
   "outputs": [
    {
     "name": "stdout",
     "output_type": "stream",
     "text": [
      "Classification report : \n",
      "               precision    recall  f1-score   support\n",
      "\n",
      "           0       0.89      1.00      0.94         8\n",
      "           1       0.88      0.88      0.88         8\n",
      "           2       0.93      1.00      0.97        14\n",
      "           3       1.00      1.00      1.00        11\n",
      "           4       1.00      1.00      1.00         4\n",
      "           5       1.00      0.60      0.75         5\n",
      "           6       0.92      1.00      0.96        12\n",
      "           7       1.00      1.00      1.00        13\n",
      "           8       1.00      0.89      0.94         9\n",
      "           9       1.00      1.00      1.00         5\n",
      "          10       0.83      0.83      0.83         6\n",
      "          11       1.00      0.62      0.77         8\n",
      "          12       0.74      0.93      0.82        15\n",
      "          13       0.91      0.83      0.87        12\n",
      "\n",
      "    accuracy                           0.92       130\n",
      "   macro avg       0.94      0.90      0.91       130\n",
      "weighted avg       0.92      0.92      0.91       130\n",
      "\n",
      "*************************\n",
      "Accuracy score of Model : \n",
      "0.9153846153846154\n",
      "*************************\n",
      "Confusion Metric For Model : \n",
      "[[ 8  0  0  0  0  0  0  0  0  0  0  0  0  0]\n",
      " [ 0  7  0  0  0  0  1  0  0  0  0  0  0  0]\n",
      " [ 0  0 14  0  0  0  0  0  0  0  0  0  0  0]\n",
      " [ 0  0  0 11  0  0  0  0  0  0  0  0  0  0]\n",
      " [ 0  0  0  0  4  0  0  0  0  0  0  0  0  0]\n",
      " [ 0  0  0  0  0  3  0  0  0  0  0  0  2  0]\n",
      " [ 0  0  0  0  0  0 12  0  0  0  0  0  0  0]\n",
      " [ 0  0  0  0  0  0  0 13  0  0  0  0  0  0]\n",
      " [ 0  0  0  0  0  0  0  0  8  0  0  0  1  0]\n",
      " [ 0  0  0  0  0  0  0  0  0  5  0  0  0  0]\n",
      " [ 0  0  0  0  0  0  0  0  0  0  5  0  0  1]\n",
      " [ 0  0  1  0  0  0  0  0  0  0  1  5  1  0]\n",
      " [ 0  1  0  0  0  0  0  0  0  0  0  0 14  0]\n",
      " [ 1  0  0  0  0  0  0  0  0  0  0  0  1 10]]\n"
     ]
    }
   ],
   "source": [
    "y_predict = svc_hyp.predict(x_test)\n",
    "model_evaluation(y_test , y_pred)"
   ]
  },
  {
   "cell_type": "markdown",
   "id": "44dadae4",
   "metadata": {},
   "source": [
    "# Prediction Function Generation"
   ]
  },
  {
   "cell_type": "code",
   "execution_count": 128,
   "id": "5239edff",
   "metadata": {},
   "outputs": [
    {
     "data": {
      "text/plain": [
       "'At Booking com data drives our decisions Technology is at our core And innovation is everywhere But our company is more than datasets lines of code or A B tests We re the thrill of the first night in a new place The excitement of the next morning The friends you make The journeys you take The sights you see And the food you sample Through our products partners and people we make it easier for everyone to experience the world We re looking for a UX Copywriter to join our writing team in Marketing supporting our Business Travel department We re a close knit writing community made up of around 15 writers both Creative Copywriters and UX Writers who collaborate across products and integrated marketing campaigns Our goal is to deliver a seamless digital experience for our customers through one voice that builds trust and engagement with our brand and enhances the platform experience for all of our users UX Copywriters in Marketing are embedded in product teams and work alongside designers developers researchers and product managers This position offers the successful candidate the autonomy to create test and scale As the UX Copywriter for Business Travel you ll be our writing team s go to B2B expert You ll conceptualise and write compelling copy for B2B communications designed to inform engage and inspire different audiences with a focus on our US Business Customers Your skills range from short form copy and persuasion to SEO and marketing communications You ll write copy for chatbots product features or online and offline B2B marketing campaigns You ll test your own hypotheses examine detailed metrics and use data to decide your next steps Almost everything you write will be translated into 44 different languages and dialects so you ll also be a key point of contact for a large team of language specialists B Responsibilities Perform competitor keyword analyses in order to understand demand and write content to meet customer needs Send copy to Language Specialists with sufficient context conceptual and visual for translating your ideas to a local audience Collaborate with other copywriters to ensure copy is consistent across all channels Create copy driven experiments to support product goals and your own copy strategy Use qualitative data quantitative data and key metrics to measure the impact of your copy and transform those insights into new iterations B Skilled As a candidate for UX Copywriter in Business Travel you possess a broad range of abilities You are experienced in B2B communications You have a native level fluency in English You have a portfolio that can demonstrate both your creative writing skills and your knowledge of UX You are a passionate advocate for the user dedicated to the craft of writing and creating elegant user experiences You are comfortable with each part of the writing process from brainstorming and researching to shipping products and iterating You write copy that is intuitive future proof and scalable You have a can do attitude and work well independently and in a team You are self driven and take full ownership of your ideas to solve challenging problems in a rapidly changing environment You welcome feedback and critique responding with creative thinking and iterations You enjoy working with people of diverse backgrounds cultures and disciplines You have excellent communication skills and an eye for detail You are able to strategically prioritize multiple projects and stakeholders at once B Experienced At least 3 years of experience in online copywriting with an emphasis on Marketing and B2B communications Experience with writing for customers and optimising for metrics A B testing and knowledge of experimentation techniques Experience with user testing and shipping new products and features Booking com is proud to be an equal opportunity workplace and is an affirmative action employer All qualified applicants will receive consideration for employment without regard to race colour religion gender gender identity or expression sexual orientation national origin genetics disability age or veteran status We strive to move well beyond traditional equal opportunity and work to create an environment that allows everyone to thrive Please apply via our website with your English CV and link your portfolio or writing samples in the CV We are looking forward to hearing from you '"
      ]
     },
     "execution_count": 128,
     "metadata": {},
     "output_type": "execute_result"
    }
   ],
   "source": [
    "df.job_description[1]"
   ]
  },
  {
   "cell_type": "code",
   "execution_count": 106,
   "id": "28ac3c9c",
   "metadata": {},
   "outputs": [],
   "source": [
    "      with open ('svc_hyp.pkl' , 'rb') as file1:\n",
    "            svm_model = pickle.load(file1) "
   ]
  },
  {
   "cell_type": "code",
   "execution_count": 112,
   "id": "830ce58f",
   "metadata": {},
   "outputs": [],
   "source": [
    "\n",
    "with open ('word2vec.model' , 'rb') as file:\n",
    "    wordvec_model = pickle.load(file)"
   ]
  },
  {
   "cell_type": "code",
   "execution_count": 118,
   "id": "5c4521b8",
   "metadata": {},
   "outputs": [],
   "source": [
    "def word2_vec(data):\n",
    "    \n",
    "    feature = [] # to append vector of each review\n",
    "    for rew in data : # iterate over reviews\n",
    "        zero_vector = np.zeros( wordvec_model.vector_size) # zero vector for handling key error\n",
    "        vectors = [] # append vector of each word\n",
    "        for word in rew:\n",
    "            if word in wordvec_model.wv : # we are checking if word is present in model\n",
    "                try :\n",
    "                    vectors.append(wordvec_model.wv[word]) # get vector\n",
    "\n",
    "                except KeyError:\n",
    "                    continue\n",
    "        if vectors:\n",
    "            vectors = np.asarray(vectors) #  merging all arrays into a single array\n",
    "            avg_vec = vectors.mean(axis=0) # average of all vectors\n",
    "            feature.append(avg_vec) # appending vector of each review\n",
    "        else :\n",
    "            feature.append(zero_vector) \n",
    "    return feature"
   ]
  },
  {
   "cell_type": "code",
   "execution_count": 121,
   "id": "36c8eb62",
   "metadata": {},
   "outputs": [],
   "source": [
    "def remove_special_char(data):\n",
    "    \n",
    "    text = re.sub('\\W' , ' ' ,data ) #  output only alpha numeric string\n",
    "    text1 = re.sub('\\s+' , ' ' , text) # to remove extra space from string\n",
    "    expanded_text = contractions.fix(text1) # To expand Text\n",
    "    data_decoded = unidecode(expanded_text) #to handle_accented characters\n",
    "    tokens =word_tokenize(data_decoded) # to create token from data\n",
    "    stop_words = stopwords.words('English') # to remove word not from stopwords\n",
    "           # In Below Cean Text we Normalize data , we remove stopwords from data , we taken alphabatic\n",
    "            # data , length of word is greater than 2 , and free from punctuations\n",
    "    clean_text = [word.lower() for word in tokens if (word.lower() not in stop_words)\n",
    "                        and (word not in punctuation) and (len(word) >2 and word.isalpha())]\n",
    "    lemmetzier=WordNetLemmatizer()\n",
    "    root_words =[lemmetzier.lemmatize(data_clean) for data_clean in clean_text ]\n",
    "    input_word2vec = [[word for word in root_words ]]\n",
    "    vector_ = word2_vec(input_word2vec)\n",
    "        \n",
    "    result = svm_model.predict([vector_[0]])[0]\n",
    "    \n",
    "    if result == 0:\n",
    "        return print('Business Development & Support')\n",
    "    if result == 1: \n",
    "        return print('Data Science & Analytics')\n",
    "    if result == 2: \n",
    "        return 'Customer Service'\n",
    "    if result == 3: \n",
    "        return 'Finance & Legal'\n",
    "    if result == 4: \n",
    "        return 'Product'\n",
    "    if result == 5: \n",
    "        return 'Leadership'\n",
    "    if result == 6: \n",
    "        return 'Design & User Experience '\n",
    "    if result == 7: \n",
    "        return 'Engineering '\n",
    "    if result == 8: \n",
    "        return 'Marketing & Communications'\n",
    "    if result == 9: \n",
    "        return 'IT Services'\n",
    "    if result == 10: \n",
    "        return 'Finance'\n",
    "    if result == 11: \n",
    "        return 'Security & Infrastructure'\n",
    "    if result == 12: \n",
    "        return 'Legal & Public Affairs'\n",
    "    if result == 13: \n",
    "        return 'People'\n",
    "\n"
   ]
  },
  {
   "cell_type": "code",
   "execution_count": 129,
   "id": "e6f5e08b",
   "metadata": {},
   "outputs": [
    {
     "name": "stdout",
     "output_type": "stream",
     "text": [
      "Data Science & Analytics\n"
     ]
    }
   ],
   "source": [
    "remove_special_char(df.job_description[1])"
   ]
  },
  {
   "cell_type": "code",
   "execution_count": null,
   "id": "ce3da4d0",
   "metadata": {},
   "outputs": [],
   "source": []
  }
 ],
 "metadata": {
  "kernelspec": {
   "display_name": "Python 3 (ipykernel)",
   "language": "python",
   "name": "python3"
  },
  "language_info": {
   "codemirror_mode": {
    "name": "ipython",
    "version": 3
   },
   "file_extension": ".py",
   "mimetype": "text/x-python",
   "name": "python",
   "nbconvert_exporter": "python",
   "pygments_lexer": "ipython3",
   "version": "3.10.5"
  }
 },
 "nbformat": 4,
 "nbformat_minor": 5
}
